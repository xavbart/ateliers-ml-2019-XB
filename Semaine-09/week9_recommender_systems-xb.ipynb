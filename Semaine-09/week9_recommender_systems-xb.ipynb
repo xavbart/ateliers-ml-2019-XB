{
 "cells": [
  {
   "cell_type": "markdown",
   "metadata": {},
   "source": [
    "# Les systèmes de recommandation\n",
    "\n",
    "\n",
    "Les systèmes de recommandation visent à maximiser la consommation en proposant à l'utilisateur ou consommateur les éléments le plus susceptibles de l'intéresser.\n",
    "Ces systèmes se basent sur caractéristiques des utilisateurs qui se ressemblent pour sa \"prédiction\", on distingue trois méthodes de comparaison pour ce type d'algorithmes :\n",
    "\n",
    "    => Basé sur l'objet lui même, ou \"content-based approach\"\n",
    "    => Basé sur la personne\n",
    "    => Basé sur la société qui l'entoure et ses influences, ou \"Collaborative filtering, context aware\"\n",
    "    => Ou bien basé sur un melange de ces trois donnée, appellé recommandation hybride\n",
    "    \n",
    "Aujourd'hui, les content based approch et les collaborative filtering !\n",
    "Nous allons étudier des données de films, et leur évaluation par des utilisateurs."
   ]
  },
  {
   "cell_type": "code",
   "execution_count": 43,
   "metadata": {},
   "outputs": [],
   "source": [
    "#on commence a connaitre !\n",
    "import numpy as np\n",
    "import pandas as pd\n",
    "import matplotlib.pyplot as plt\n",
    "%matplotlib inline\n",
    "import seaborn as sns"
   ]
  },
  {
   "cell_type": "markdown",
   "metadata": {},
   "source": [
    "## Analyse des datas\n",
    "Chargeons les données depuis le fichier 'u.data'"
   ]
  },
  {
   "cell_type": "code",
   "execution_count": 44,
   "metadata": {},
   "outputs": [
    {
     "data": {
      "text/html": [
       "<div>\n",
       "<style scoped>\n",
       "    .dataframe tbody tr th:only-of-type {\n",
       "        vertical-align: middle;\n",
       "    }\n",
       "\n",
       "    .dataframe tbody tr th {\n",
       "        vertical-align: top;\n",
       "    }\n",
       "\n",
       "    .dataframe thead th {\n",
       "        text-align: right;\n",
       "    }\n",
       "</style>\n",
       "<table border=\"1\" class=\"dataframe\">\n",
       "  <thead>\n",
       "    <tr style=\"text-align: right;\">\n",
       "      <th></th>\n",
       "      <th>user_id</th>\n",
       "      <th>item_id</th>\n",
       "      <th>rating</th>\n",
       "      <th>timestamp</th>\n",
       "    </tr>\n",
       "  </thead>\n",
       "  <tbody>\n",
       "    <tr>\n",
       "      <th>0</th>\n",
       "      <td>196</td>\n",
       "      <td>242</td>\n",
       "      <td>3</td>\n",
       "      <td>881250949</td>\n",
       "    </tr>\n",
       "    <tr>\n",
       "      <th>1</th>\n",
       "      <td>186</td>\n",
       "      <td>302</td>\n",
       "      <td>3</td>\n",
       "      <td>891717742</td>\n",
       "    </tr>\n",
       "    <tr>\n",
       "      <th>2</th>\n",
       "      <td>22</td>\n",
       "      <td>377</td>\n",
       "      <td>1</td>\n",
       "      <td>878887116</td>\n",
       "    </tr>\n",
       "    <tr>\n",
       "      <th>3</th>\n",
       "      <td>244</td>\n",
       "      <td>51</td>\n",
       "      <td>2</td>\n",
       "      <td>880606923</td>\n",
       "    </tr>\n",
       "    <tr>\n",
       "      <th>4</th>\n",
       "      <td>166</td>\n",
       "      <td>346</td>\n",
       "      <td>1</td>\n",
       "      <td>886397596</td>\n",
       "    </tr>\n",
       "  </tbody>\n",
       "</table>\n",
       "</div>"
      ],
      "text/plain": [
       "   user_id  item_id  rating  timestamp\n",
       "0      196      242       3  881250949\n",
       "1      186      302       3  891717742\n",
       "2       22      377       1  878887116\n",
       "3      244       51       2  880606923\n",
       "4      166      346       1  886397596"
      ]
     },
     "execution_count": 44,
     "metadata": {},
     "output_type": "execute_result"
    }
   ],
   "source": [
    "# Creez une liste de string user_id, item_id, rating et timestamp qui serviront de noms au colonnes\n",
    "names = [\"user_id\", \"item_id\", \"rating\", \"timestamp\"]\n",
    "# Lisez le fichier [pd.read_csv]\n",
    "data = pd.read_csv(\"u.data\", sep=\"\\t\",names=names)\n",
    "\n",
    "data.head()"
   ]
  },
  {
   "cell_type": "markdown",
   "metadata": {},
   "source": [
    "Comme nous voyons, nous avons une colonne pour les users, une pour les films (item_id), une pour levaluation, et la dernière dont nous ne nous occuperons pas, désigme le moment auquel le film a été visionné en temps universel.<br>\n",
    "Funfact : les gagnant du netflix_prize ont pimpés leur algorithme notamment avec un parametre deduisant le biais temporel.\n",
    "<br>\n",
    "\n",
    "Jetons un coup d'oeil au nombre d'items et d'users pour verifier l'integrité des données : (vous devriez obtenir 943 users et 1681 (correction 1682) items"
   ]
  },
  {
   "cell_type": "code",
   "execution_count": 45,
   "metadata": {},
   "outputs": [
    {
     "name": "stdout",
     "output_type": "stream",
     "text": [
      "943 users\n",
      "1682 items\n"
     ]
    }
   ],
   "source": [
    "# comptez le nombre d'user et de films\n",
    "n_users = data[\"user_id\"].nunique()\n",
    "n_items = data[\"item_id\"].nunique()\n",
    "print (str(n_users) + ' users')\n",
    "print (str(n_items) + ' items')"
   ]
  },
  {
   "cell_type": "markdown",
   "metadata": {},
   "source": [
    "Etudions les moyennes de chaque film"
   ]
  },
  {
   "cell_type": "code",
   "execution_count": 46,
   "metadata": {},
   "outputs": [
    {
     "data": {
      "text/html": [
       "<div>\n",
       "<style scoped>\n",
       "    .dataframe tbody tr th:only-of-type {\n",
       "        vertical-align: middle;\n",
       "    }\n",
       "\n",
       "    .dataframe tbody tr th {\n",
       "        vertical-align: top;\n",
       "    }\n",
       "\n",
       "    .dataframe thead th {\n",
       "        text-align: right;\n",
       "    }\n",
       "</style>\n",
       "<table border=\"1\" class=\"dataframe\">\n",
       "  <thead>\n",
       "    <tr style=\"text-align: right;\">\n",
       "      <th></th>\n",
       "      <th>rating</th>\n",
       "    </tr>\n",
       "    <tr>\n",
       "      <th>item_id</th>\n",
       "      <th></th>\n",
       "    </tr>\n",
       "  </thead>\n",
       "  <tbody>\n",
       "    <tr>\n",
       "      <th>1</th>\n",
       "      <td>3.878319</td>\n",
       "    </tr>\n",
       "    <tr>\n",
       "      <th>2</th>\n",
       "      <td>3.206107</td>\n",
       "    </tr>\n",
       "    <tr>\n",
       "      <th>3</th>\n",
       "      <td>3.033333</td>\n",
       "    </tr>\n",
       "    <tr>\n",
       "      <th>4</th>\n",
       "      <td>3.550239</td>\n",
       "    </tr>\n",
       "    <tr>\n",
       "      <th>5</th>\n",
       "      <td>3.302326</td>\n",
       "    </tr>\n",
       "  </tbody>\n",
       "</table>\n",
       "</div>"
      ],
      "text/plain": [
       "           rating\n",
       "item_id          \n",
       "1        3.878319\n",
       "2        3.206107\n",
       "3        3.033333\n",
       "4        3.550239\n",
       "5        3.302326"
      ]
     },
     "execution_count": 46,
     "metadata": {},
     "output_type": "execute_result"
    }
   ],
   "source": [
    "# Creez un dataframe 'films' contenant la moyenne des rating pour chaque film [pd.groupby] \n",
    "films = data.groupby([\"item_id\"])[\"rating\"].mean()\n",
    "filmsDF = pd.DataFrame(films)\n",
    "films.head()\n",
    "filmsDF.head()\n",
    "#print(films.describe())"
   ]
  },
  {
   "cell_type": "markdown",
   "metadata": {},
   "source": [
    "Regardons le nombre de ratings par film"
   ]
  },
  {
   "cell_type": "code",
   "execution_count": 47,
   "metadata": {},
   "outputs": [
    {
     "data": {
      "text/html": [
       "<div>\n",
       "<style scoped>\n",
       "    .dataframe tbody tr th:only-of-type {\n",
       "        vertical-align: middle;\n",
       "    }\n",
       "\n",
       "    .dataframe tbody tr th {\n",
       "        vertical-align: top;\n",
       "    }\n",
       "\n",
       "    .dataframe thead th {\n",
       "        text-align: right;\n",
       "    }\n",
       "</style>\n",
       "<table border=\"1\" class=\"dataframe\">\n",
       "  <thead>\n",
       "    <tr style=\"text-align: right;\">\n",
       "      <th></th>\n",
       "      <th>rating</th>\n",
       "      <th>number_of_ratings</th>\n",
       "    </tr>\n",
       "    <tr>\n",
       "      <th>item_id</th>\n",
       "      <th></th>\n",
       "      <th></th>\n",
       "    </tr>\n",
       "  </thead>\n",
       "  <tbody>\n",
       "    <tr>\n",
       "      <th>1</th>\n",
       "      <td>3.878319</td>\n",
       "      <td>452</td>\n",
       "    </tr>\n",
       "    <tr>\n",
       "      <th>2</th>\n",
       "      <td>3.206107</td>\n",
       "      <td>131</td>\n",
       "    </tr>\n",
       "    <tr>\n",
       "      <th>3</th>\n",
       "      <td>3.033333</td>\n",
       "      <td>90</td>\n",
       "    </tr>\n",
       "    <tr>\n",
       "      <th>4</th>\n",
       "      <td>3.550239</td>\n",
       "      <td>209</td>\n",
       "    </tr>\n",
       "    <tr>\n",
       "      <th>5</th>\n",
       "      <td>3.302326</td>\n",
       "      <td>86</td>\n",
       "    </tr>\n",
       "  </tbody>\n",
       "</table>\n",
       "</div>"
      ],
      "text/plain": [
       "           rating  number_of_ratings\n",
       "item_id                             \n",
       "1        3.878319                452\n",
       "2        3.206107                131\n",
       "3        3.033333                 90\n",
       "4        3.550239                209\n",
       "5        3.302326                 86"
      ]
     },
     "execution_count": 47,
     "metadata": {},
     "output_type": "execute_result"
    }
   ],
   "source": [
    "# Rajoutez une colonne 'number_of_ratings' au dataframe films\n",
    "filmsDF['number_of_ratings'] = data.groupby([\"item_id\"])[\"rating\"].count()\n",
    "\n",
    "filmsDF.head()"
   ]
  },
  {
   "cell_type": "markdown",
   "metadata": {},
   "source": [
    "Visualisons maintenant la distribution des avis."
   ]
  },
  {
   "cell_type": "code",
   "execution_count": 48,
   "metadata": {},
   "outputs": [
    {
     "data": {
      "text/plain": [
       "(array([ 77.,  31., 105., 182., 233., 420., 335., 245.,  43.,  11.]),\n",
       " array([1. , 1.4, 1.8, 2.2, 2.6, 3. , 3.4, 3.8, 4.2, 4.6, 5. ]),\n",
       " <a list of 10 Patch objects>)"
      ]
     },
     "execution_count": 48,
     "metadata": {},
     "output_type": "execute_result"
    },
    {
     "data": {
      "image/png": "[encoded data removed]",
      "text/plain": [
       "<Figure size 432x288 with 1 Axes>"
      ]
     },
     "metadata": {
      "needs_background": "light"
     },
     "output_type": "display_data"
    }
   ],
   "source": [
    "# affichez un histogramme de la colonne 'rating' [pls.hist()]\n",
    "plt.hist(filmsDF[\"rating\"], histtype='bar')"
   ]
  },
  {
   "cell_type": "markdown",
   "metadata": {},
   "source": [
    "Puis la ponderation qui lui est associée..."
   ]
  },
  {
   "cell_type": "code",
   "execution_count": 49,
   "metadata": {},
   "outputs": [
    {
     "data": {
      "text/plain": [
       "(array([1.146e+03, 2.490e+02, 1.390e+02, 6.700e+01, 3.800e+01, 2.400e+01,\n",
       "        7.000e+00, 5.000e+00, 6.000e+00, 1.000e+00]),\n",
       " array([  1. ,  59.2, 117.4, 175.6, 233.8, 292. , 350.2, 408.4, 466.6,\n",
       "        524.8, 583. ]),\n",
       " <a list of 10 Patch objects>)"
      ]
     },
     "execution_count": 49,
     "metadata": {},
     "output_type": "execute_result"
    },
    {
     "data": {
      "image/png": "[encoded data removed]",
      "text/plain": [
       "<Figure size 432x288 with 1 Axes>"
      ]
     },
     "metadata": {
      "needs_background": "light"
     },
     "output_type": "display_data"
    }
   ],
   "source": [
    "# affichez un histogramme de la colonne 'number_of_ratings' [pls.hist()]\n",
    "plt.hist(filmsDF[\"number_of_ratings\"], histtype='bar')"
   ]
  },
  {
   "cell_type": "markdown",
   "metadata": {},
   "source": [
    "Et fusionnons les deux !"
   ]
  },
  {
   "cell_type": "code",
   "execution_count": 50,
   "metadata": {},
   "outputs": [
    {
     "data": {
      "text/plain": [
       "<seaborn.axisgrid.JointGrid at 0x1a20b862b0>"
      ]
     },
     "execution_count": 50,
     "metadata": {},
     "output_type": "execute_result"
    },
    {
     "data": {
      "image/png": "[encoded data removed]",
      "text/plain": [
       "<Figure size 432x432 with 3 Axes>"
      ]
     },
     "metadata": {
      "needs_background": "light"
     },
     "output_type": "display_data"
    }
   ],
   "source": [
    "# creez un graphique en x rating et en y number_of_ratings [sns.joinplot]\n",
    "sns.jointplot(filmsDF[\"rating\"],filmsDF[\"number_of_ratings\"])"
   ]
  },
  {
   "cell_type": "markdown",
   "metadata": {},
   "source": [
    "Comme nous pouvons le voir la majorité des films n'ont que peu de rating.<br>\n",
    "Notre dataset peut etre biaisé par ce defaut. Nous allons tout de meme continuer, et voir si les resultats sont coherents."
   ]
  },
  {
   "cell_type": "markdown",
   "metadata": {},
   "source": [
    "##  Mise en place du collaborative filtering"
   ]
  },
  {
   "cell_type": "markdown",
   "metadata": {},
   "source": [
    "Decalons notre liste pour l'aligner sur l'index 0"
   ]
  },
  {
   "cell_type": "code",
   "execution_count": 51,
   "metadata": {},
   "outputs": [
    {
     "data": {
      "text/plain": [
       "array([[5., 3., 4., ..., 0., 0., 0.],\n",
       "       [4., 0., 0., ..., 0., 0., 0.],\n",
       "       [0., 0., 0., ..., 0., 0., 0.],\n",
       "       ...,\n",
       "       [5., 0., 0., ..., 0., 0., 0.],\n",
       "       [0., 0., 0., ..., 0., 0., 0.],\n",
       "       [0., 5., 0., ..., 0., 0., 0.]])"
      ]
     },
     "execution_count": 51,
     "metadata": {},
     "output_type": "execute_result"
    }
   ],
   "source": [
    "ratings = np.zeros((n_users, n_items))\n",
    "for row in data.itertuples():\n",
    "    ratings[row[1]-1, row[2]-1] = row[3]\n",
    "ratings"
   ]
  },
  {
   "cell_type": "markdown",
   "metadata": {},
   "source": [
    "Calculons maintenant l'indice de parcimonie (indiquant quel pourcentage des films chaque utilisateur a evalué en moyenne)"
   ]
  },
  {
   "cell_type": "code",
   "execution_count": 61,
   "metadata": {},
   "outputs": [
    {
     "name": "stdout",
     "output_type": "stream",
     "text": [
      "100000\n",
      "Parcimonie: 6.30%\n"
     ]
    }
   ],
   "source": [
    "# initialisons a la taille totale de l'echantillon (le nombre de valeurs differentes de 0)\n",
    "parcimonie = np.count_nonzero(ratings)\n",
    "print(parcimonie)\n",
    "# divisons par la taille totale de la matrice\n",
    "parcimonie /= n_users * n_items\n",
    "# multiplions par 100 pour ramener en %\n",
    "parcimonie *= 100\n",
    "\n",
    "print ('Parcimonie: {:4.2f}%'.format(parcimonie))"
   ]
  },
  {
   "cell_type": "markdown",
   "metadata": {},
   "source": [
    "Divisons notre dataset en deux :"
   ]
  },
  {
   "cell_type": "code",
   "execution_count": null,
   "metadata": {},
   "outputs": [],
   "source": [
    "def train_test_split(ratings):\n",
    "    # Une matrice de 0 de la meme forme et taille que ratings\n",
    "    test =\n",
    "    # une copie de ratings\n",
    "    train =\n",
    "    # iterer sur le nombre de lignes de la matrice\n",
    "    for in :\n",
    "        # selectionnons des nombres au hasard\n",
    "        test_ratings = np.random.choice(ratings[user, :].nonzero()[0], size=10, replace=False)\n",
    "        #initialiser la case de train a 0.0\n",
    "        \n",
    "        #initialiser la case de test a la valeur correspondante dans ratings\n",
    "        \n",
    "    return train, test"
   ]
  },
  {
   "cell_type": "code",
   "execution_count": null,
   "metadata": {},
   "outputs": [],
   "source": [
    "train, test = train_test_split(ratings)"
   ]
  },
  {
   "cell_type": "markdown",
   "metadata": {},
   "source": [
    "Définissons une fonction calculant la similarité cosinus, <br>\n",
    "elle est tres lente si faite en boucle for, utilisez les fonctions numpy dot et diagonal.<br>\n",
    "Elle devra pouvoir s'appliquer soit aux users soit aux items ! [np.translate ; np.diagonal]"
   ]
  },
  {
   "cell_type": "code",
   "execution_count": null,
   "metadata": {},
   "outputs": [],
   "source": [
    "# epsilon est la pour eviter les divisions par 0\n",
    "def cosine_similarity(ratings, kind='user', epsilon=1e-9):\n",
    "    # pour avoir la matrice des item il suffit de faire une translation de ratings.\n",
    "    # Pour kind=item et kind=user il faut initialiser sim au produit matriciel de lui meme et de sa translation\n",
    "    # Ne pas oublier d'ajouter epsilon a chaque case !\n",
    "    if kind = 'user':\n",
    "        sim =\n",
    "    if kind = 'item':\n",
    "        sim =\n",
    "    # la racine carré de la diagonale de sim\n",
    "    norms =\n",
    "    # retournez sim divisé par norms divisé par la translation de norms. \n",
    "    return ()"
   ]
  },
  {
   "cell_type": "code",
   "execution_count": null,
   "metadata": {},
   "outputs": [],
   "source": [
    "user_similarity = cosine_similarity(train, kind='user')\n",
    "item_similarity = cosine_similarity(train, kind='item')"
   ]
  },
  {
   "cell_type": "markdown",
   "metadata": {},
   "source": [
    "Definissons une fonction de prediction basique, qui prendra parti des map de similarité"
   ]
  },
  {
   "cell_type": "code",
   "execution_count": null,
   "metadata": {},
   "outputs": [],
   "source": [
    "def predict(ratings, similarity, kind='user'):\n",
    "    if kind == 'user':\n",
    "        return similarity.dot(ratings) / np.array([np.abs(similarity).sum(axis=1)]).T\n",
    "    elif kind == 'item':\n",
    "        # Indice : le produit matriciel est inversé et l'array de la somme n'est pas inverseé \n",
    "        return"
   ]
  },
  {
   "cell_type": "markdown",
   "metadata": {},
   "source": [
    "Et une dernière pour calculer la fonction de cout \"mean squared error\""
   ]
  },
  {
   "cell_type": "code",
   "execution_count": null,
   "metadata": {},
   "outputs": [],
   "source": [
    "def cost(pred, actual):\n",
    "    # calculer la moyenne du carré des distance entre les predictions et les vraies valeurs\n",
    "    \n",
    "    return error"
   ]
  },
  {
   "cell_type": "markdown",
   "metadata": {},
   "source": [
    "Et on lance le tout !"
   ]
  },
  {
   "cell_type": "code",
   "execution_count": null,
   "metadata": {},
   "outputs": [],
   "source": [
    "item_prediction = predict(train, item_similarity, kind='item')\n",
    "user_prediction = predict(train, user_similarity, kind='user')"
   ]
  },
  {
   "cell_type": "code",
   "execution_count": null,
   "metadata": {},
   "outputs": [],
   "source": [
    "print ('User-based cost : ' + cost(user_prediction, test))\n",
    "print ('Item-based cost : ' + cost(item_prediction, test))"
   ]
  },
  {
   "cell_type": "markdown",
   "metadata": {},
   "source": [
    "Vos valeurs doivent s'approcher de 8.3 pour le user-based et de 11.5 pour le item-based."
   ]
  },
  {
   "cell_type": "markdown",
   "metadata": {},
   "source": [
    "### Optimisation :\n",
    "\n",
    "Comme nous l'avons vus sur le graph, les datas souffent de beaucoup de biais qu'il faut prendre en compte avant leur traitement<br>\n",
    "Utilisons la methode top-k, qui consiste betement a ne prendre en compte que les k utilisateur les plus proches du notre."
   ]
  },
  {
   "cell_type": "code",
   "execution_count": null,
   "metadata": {},
   "outputs": [],
   "source": [
    "def predict_topk(ratings, similarity, kind='user', k=40):\n",
    "    pred = np.zeros(ratings.shape)\n",
    "    if kind == 'user':\n",
    "\n",
    "    if kind == 'item':\n",
    "       \n",
    "    return pred"
   ]
  },
  {
   "cell_type": "markdown",
   "metadata": {},
   "source": [
    "Comme vous allez le voir, le cout est maintenant divisé par deux !<br>\n",
    "Ce genre d'optimisation est rapide a mettre en place, et tres efficace.<br>\n",
    "Vous devriez obtenir autour de 6.5 pour les user-based et 7.8 pour les item-based."
   ]
  },
  {
   "cell_type": "code",
   "execution_count": null,
   "metadata": {},
   "outputs": [],
   "source": [
    "pred = predict_topk(train, user_similarity, kind='user', k=30)\n",
    "print ('Top-k User-based cost : ' + str(cost(pred, test)))\n",
    "\n",
    "pred = predict_topk(train, item_similarity, kind='item', k=15)\n",
    "print ('Top-k Item-based cost : ' + str(cost(pred, test)))\n"
   ]
  },
  {
   "cell_type": "markdown",
   "metadata": {},
   "source": [
    "## Hyperparameters customisation :\n",
    "Nous allons maintenant tracer un graphique du cout en fonction des k-premiers utilisateurs, et voir comment potentiellement ameliorer les performances de l'algorithme :"
   ]
  },
  {
   "cell_type": "code",
   "execution_count": null,
   "metadata": {},
   "outputs": [],
   "source": [
    "# valeurs de k a essayer\n",
    "k_array = [5, 15, 30, 50, 100]\n",
    "# Les 4 array a completer\n",
    "user_train_cost = []\n",
    "user_test_cost = []\n",
    "item_test_cost = []\n",
    "item_train_cost = []\n",
    "\n",
    "for k in k_array:\n",
    "    print(k)\n",
    "    # predire pour user et item, avec la valeur actuelle de k\n",
    "    user_pred =\n",
    "    item_pred =\n",
    "    \n",
    "    # Ajouter aux differentes listes les couts pour le k actuel !\n",
    "    user_train_cost += [cost(user_pred, train)]\n",
    "    user_test_cost +=\n",
    "    \n",
    "    item_train_cost +=\n",
    "    item_test_cost += "
   ]
  },
  {
   "cell_type": "code",
   "execution_count": null,
   "metadata": {},
   "outputs": [],
   "source": [
    "# Pour afficher le joli petit graph\n",
    "pal = sns.color_palette(\"Set2\", 2)\n",
    "\n",
    "\n",
    "plt.figure(figsize=(8, 8))\n",
    "plt.plot(k_array, user_train_cost, c=pal[0], label='User-based train', alpha=0.5, linewidth=5)\n",
    "plt.plot(k_array, user_test_cost, c=pal[0], label='User-based test', linewidth=5)\n",
    "plt.plot(k_array, item_train_cost, c=pal[1], label='Item-based train', alpha=0.5, linewidth=5)\n",
    "plt.plot(k_array, item_test_cost, c=pal[1], label='Item-based test', linewidth=5)\n",
    "plt.legend(loc='best', fontsize=20)\n",
    "plt.xticks(fontsize=16);\n",
    "plt.yticks(fontsize=16);\n",
    "plt.xlabel('k', fontsize=30);\n",
    "plt.ylabel('Cost', fontsize=30);"
   ]
  },
  {
   "cell_type": "markdown",
   "metadata": {},
   "source": [
    "Ce graph represente le cout des differents set de data en fonction du nombre d'users pris en compte.<br>\n",
    "Il va nous permettre de determiner quels sont les k ideaux !<br>\n",
    "Nous pouvons voir ici que les valeurs les plus optimales sont autour de 40 pour le user-based test, et de 20 pour l'item-based test."
   ]
  },
  {
   "cell_type": "markdown",
   "metadata": {},
   "source": [
    "## Visualisation\n",
    "Maintenant ajoutons les noms de film pour voir le resultat de notre travail !\n",
    "Vous allez devoir ouvrir le fichier u.item, y lire les index de chaque film et les associer a leur nom dans un dictionnaire !"
   ]
  },
  {
   "cell_type": "code",
   "execution_count": null,
   "metadata": {},
   "outputs": [],
   "source": [
    "movies_index = {}\n",
    "# Lire le fichier \"u.item\" avec pour separateur '|', et remplir le dictionnaire avec ces données\n",
    "# il y a des caracteres non reconnus  par l'UTF-8 dans ce ficier, utilisez l'argument \"encoding = 'ISO-8859-1'\"\n",
    "\n",
    "\n",
    "def top_movies(similarity, movies_index, target_movie_index, k=6):\n",
    "    # Trouver les k films les plus proches de celui fourni dans target_movie_index\n",
    "    \n",
    "    return\n",
    "\n",
    "top_k_movies(item_similarity, movies_index, 500)"
   ]
  },
  {
   "cell_type": "markdown",
   "metadata": {},
   "source": [
    "## Bonus\n",
    "Essayez de mettre en place une fonction predict qui normalise les données des users, <br>\n",
    "en prenant en compte leur note max et leur note min pour les ramener a une echelle de 0 a 5 individuellement."
   ]
  },
  {
   "cell_type": "code",
   "execution_count": null,
   "metadata": {},
   "outputs": [],
   "source": [
    "def predict_nobias(ratings, similarity, kind='user'):\n",
    "    if kind == 'user':\n",
    "\n",
    "    elif kind == 'item':\n",
    "        \n",
    "    return pred"
   ]
  },
  {
   "cell_type": "code",
   "execution_count": null,
   "metadata": {},
   "outputs": [],
   "source": [
    "user_pred = predict_nobias(train, user_similarity, kind='user')\n",
    "print ('Bias-subtracted User-based cost : ' + str(cost(user_pred, test)))\n",
    "\n",
    "item_pred = predict_nobias(train, item_similarity, kind='item')\n",
    "print ('Bias-subtracted Item-based cost : ' + str(cost(item_pred, test)))\n"
   ]
  }
 ],
 "metadata": {
  "celltoolbar": "Aucun(e)",
  "kernelspec": {
   "display_name": "Python 3",
   "language": "python",
   "name": "python3"
  },
  "language_info": {
   "codemirror_mode": {
    "name": "ipython",
    "version": 3
   },
   "file_extension": ".py",
   "mimetype": "text/x-python",
   "name": "python",
   "nbconvert_exporter": "python",
   "pygments_lexer": "ipython3",
   "version": "3.6.8"
  }
 },
 "nbformat": 4,
 "nbformat_minor": 2
}
