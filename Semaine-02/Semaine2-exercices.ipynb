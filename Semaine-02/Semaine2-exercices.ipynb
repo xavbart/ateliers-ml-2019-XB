{
 "cells": [
  {
   "cell_type": "markdown",
   "metadata": {
    "colab_type": "text",
    "id": "VtKbMFO0-nbN"
   },
   "source": [
    "# Régression linéaire à une variable - Exercices tirés du MOOC d'Andrew Ng"
   ]
  },
  {
   "cell_type": "markdown",
   "metadata": {
    "colab_type": "text",
    "id": "Y9AuDQ32-nbY"
   },
   "source": [
    "## Chargement des données"
   ]
  },
  {
   "cell_type": "markdown",
   "metadata": {
    "colab_type": "text",
    "id": "Z741dp3_-nbe"
   },
   "source": [
    "### Charger les données du fichier ex1data1.csv"
   ]
  },
  {
   "cell_type": "markdown",
   "metadata": {},
   "source": [
    "First install numpy / pandas / matplotlib\n",
    "\n",
    "` conda install numpy`\n",
    "\n",
    "` conda install pandas`\n",
    "\n",
    "` conda install matplotlib`\n",
    "\n",
    "(ou `pip install` si trop lent)\n",
    "\n",
    "Si forking les exercices: `jupyter trust Semaine2-exercices.ipynb`"
   ]
  },
  {
   "cell_type": "code",
   "execution_count": 19,
   "metadata": {},
   "outputs": [],
   "source": [
    "import numpy as np\n",
    "import pandas as pd\n",
    "import matplotlib.pyplot as plt\n",
    "from tqdm import tqdm"
   ]
  },
  {
   "cell_type": "code",
   "execution_count": 2,
   "metadata": {
    "colab": {},
    "colab_type": "code",
    "id": "m1Z2S5uJ-nb4"
   },
   "outputs": [],
   "source": [
    "data = pd.read_csv(\"ex1data1.csv\")"
   ]
  },
  {
   "cell_type": "markdown",
   "metadata": {},
   "source": [
    "To display data set :"
   ]
  },
  {
   "cell_type": "code",
   "execution_count": 3,
   "metadata": {},
   "outputs": [
    {
     "data": {
      "text/html": [
       "<div>\n",
       "<style scoped>\n",
       "    .dataframe tbody tr th:only-of-type {\n",
       "        vertical-align: middle;\n",
       "    }\n",
       "\n",
       "    .dataframe tbody tr th {\n",
       "        vertical-align: top;\n",
       "    }\n",
       "\n",
       "    .dataframe thead th {\n",
       "        text-align: right;\n",
       "    }\n",
       "</style>\n",
       "<table border=\"1\" class=\"dataframe\">\n",
       "  <thead>\n",
       "    <tr style=\"text-align: right;\">\n",
       "      <th></th>\n",
       "      <th>population</th>\n",
       "      <th>profit</th>\n",
       "    </tr>\n",
       "  </thead>\n",
       "  <tbody>\n",
       "    <tr>\n",
       "      <th>0</th>\n",
       "      <td>6.1101</td>\n",
       "      <td>17.5920</td>\n",
       "    </tr>\n",
       "    <tr>\n",
       "      <th>1</th>\n",
       "      <td>5.5277</td>\n",
       "      <td>9.1302</td>\n",
       "    </tr>\n",
       "    <tr>\n",
       "      <th>2</th>\n",
       "      <td>8.5186</td>\n",
       "      <td>13.6620</td>\n",
       "    </tr>\n",
       "    <tr>\n",
       "      <th>3</th>\n",
       "      <td>7.0032</td>\n",
       "      <td>11.8540</td>\n",
       "    </tr>\n",
       "    <tr>\n",
       "      <th>4</th>\n",
       "      <td>5.8598</td>\n",
       "      <td>6.8233</td>\n",
       "    </tr>\n",
       "  </tbody>\n",
       "</table>\n",
       "</div>"
      ],
      "text/plain": [
       "   population   profit\n",
       "0      6.1101  17.5920\n",
       "1      5.5277   9.1302\n",
       "2      8.5186  13.6620\n",
       "3      7.0032  11.8540\n",
       "4      5.8598   6.8233"
      ]
     },
     "execution_count": 3,
     "metadata": {},
     "output_type": "execute_result"
    }
   ],
   "source": [
    "df = pd.DataFrame(data)\n",
    "df.head()"
   ]
  },
  {
   "cell_type": "markdown",
   "metadata": {},
   "source": [
    "!! If needed `%matplotlib inline`"
   ]
  },
  {
   "cell_type": "markdown",
   "metadata": {},
   "source": [
    "!! Or `plt.show()`"
   ]
  },
  {
   "cell_type": "markdown",
   "metadata": {
    "colab_type": "text",
    "id": "1cyRCItR-ncH"
   },
   "source": [
    "### Visualiser les données"
   ]
  },
  {
   "cell_type": "markdown",
   "metadata": {},
   "source": [
    "!! To display help either\n",
    "\n",
    "type the function with question mark before `?data.plot.scatter()`\n",
    "\n",
    "or type the function then `shift`+`tab`"
   ]
  },
  {
   "cell_type": "code",
   "execution_count": 4,
   "metadata": {
    "colab": {},
    "colab_type": "code",
    "id": "CKf63e13-ncK"
   },
   "outputs": [
    {
     "data": {
      "text/plain": [
       "<matplotlib.axes._subplots.AxesSubplot at 0x112b33400>"
      ]
     },
     "execution_count": 4,
     "metadata": {},
     "output_type": "execute_result"
    },
    {
     "data": {
      "image/png": "[encoded data removed]",
      "text/plain": [
       "<Figure size 432x288 with 1 Axes>"
      ]
     },
     "metadata": {
      "needs_background": "light"
     },
     "output_type": "display_data"
    }
   ],
   "source": [
    "data.plot.scatter('population', 'profit')"
   ]
  },
  {
   "cell_type": "markdown",
   "metadata": {
    "colab_type": "text",
    "id": "dSFCW8_2-ncV"
   },
   "source": [
    "### Découpez vos données en deux vecteurs X et y et transformerz-les en array numpy"
   ]
  },
  {
   "cell_type": "markdown",
   "metadata": {
    "colab_type": "text",
    "id": "4BkcMlIM-ncY"
   },
   "source": [
    "Note: Les colonnes d'un Dataframe peuvent être sélectionnées par leur nom, de la même manière que dans un dictionnaire"
   ]
  },
  {
   "cell_type": "code",
   "execution_count": 5,
   "metadata": {
    "colab": {},
    "colab_type": "code",
    "id": "KcsC8WcO-ncc"
   },
   "outputs": [],
   "source": [
    "X = data.population\n",
    "y = data.profit"
   ]
  },
  {
   "cell_type": "markdown",
   "metadata": {
    "colab_type": "text",
    "id": "uCjzAGfP-ndC"
   },
   "source": [
    "## Calcul d'une première prédiction"
   ]
  },
  {
   "cell_type": "markdown",
   "metadata": {
    "colab_type": "text",
    "id": "ybfHHtMG-ndJ"
   },
   "source": [
    "### Initialisez theta en un vecteur de deux valeurs à zéro"
   ]
  },
  {
   "cell_type": "code",
   "execution_count": 6,
   "metadata": {
    "colab": {},
    "colab_type": "code",
    "id": "mJ2vY1m4-ndO"
   },
   "outputs": [],
   "source": [
    "theta = np.array([0.,0.])"
   ]
  },
  {
   "cell_type": "markdown",
   "metadata": {
    "colab_type": "text",
    "id": "_WgZ-_MO-ndf"
   },
   "source": [
    "### Écrivez une fonction _predict_ qui prend en argument une population (x) ainsi que les parametres theta et prédit le profit (y) associé"
   ]
  },
  {
   "cell_type": "code",
   "execution_count": 7,
   "metadata": {
    "colab": {},
    "colab_type": "code",
    "id": "fFh-zDJH-ndk"
   },
   "outputs": [
    {
     "data": {
      "text/plain": [
       "0     0.0\n",
       "1     0.0\n",
       "2     0.0\n",
       "3     0.0\n",
       "4     0.0\n",
       "5     0.0\n",
       "6     0.0\n",
       "7     0.0\n",
       "8     0.0\n",
       "9     0.0\n",
       "10    0.0\n",
       "11    0.0\n",
       "12    0.0\n",
       "13    0.0\n",
       "14    0.0\n",
       "15    0.0\n",
       "16    0.0\n",
       "17    0.0\n",
       "18    0.0\n",
       "19    0.0\n",
       "20    0.0\n",
       "21    0.0\n",
       "22    0.0\n",
       "23    0.0\n",
       "24    0.0\n",
       "25    0.0\n",
       "26    0.0\n",
       "27    0.0\n",
       "28    0.0\n",
       "29    0.0\n",
       "     ... \n",
       "67    0.0\n",
       "68    0.0\n",
       "69    0.0\n",
       "70    0.0\n",
       "71    0.0\n",
       "72    0.0\n",
       "73    0.0\n",
       "74    0.0\n",
       "75    0.0\n",
       "76    0.0\n",
       "77    0.0\n",
       "78    0.0\n",
       "79    0.0\n",
       "80    0.0\n",
       "81    0.0\n",
       "82    0.0\n",
       "83    0.0\n",
       "84    0.0\n",
       "85    0.0\n",
       "86    0.0\n",
       "87    0.0\n",
       "88    0.0\n",
       "89    0.0\n",
       "90    0.0\n",
       "91    0.0\n",
       "92    0.0\n",
       "93    0.0\n",
       "94    0.0\n",
       "95    0.0\n",
       "96    0.0\n",
       "Name: population, Length: 97, dtype: float64"
      ]
     },
     "execution_count": 7,
     "metadata": {},
     "output_type": "execute_result"
    }
   ],
   "source": [
    "def predictFOR(X, theta):\n",
    "    z = np.empty(X.size)\n",
    "    for i in range(X.size):\n",
    "        z[i] = theta[1]*X[i] + theta[0] \n",
    "    return z\n",
    "def predict(X, theta):\n",
    "    z = theta[1] * X + theta[0]\n",
    "    return z\n",
    "theta = np.array([0.,0.])\n",
    "predict(X, theta)"
   ]
  },
  {
   "cell_type": "markdown",
   "metadata": {
    "colab_type": "text",
    "id": "kt1P7vn--ndw"
   },
   "source": [
    "### Écrivez une fonction _fit_ qui prend en arguments le vecteur X et le vecteur y des données d'entraînement et renvoie le vecteur de paramètres _theta_ qui a été appris"
   ]
  },
  {
   "cell_type": "code",
   "execution_count": 8,
   "metadata": {
    "colab": {},
    "colab_type": "code",
    "id": "oIxDux36-nd5"
   },
   "outputs": [
    {
     "data": {
      "text/plain": [
       "array([-3.63029144,  1.16636235])"
      ]
     },
     "execution_count": 8,
     "metadata": {},
     "output_type": "execute_result"
    }
   ],
   "source": [
    "def fit(X, y, theta, alpha, num_iters):\n",
    "    # Initialiser certaines variable utiles\n",
    "    m = X.size\n",
    "    \n",
    "    # Boucler sur le nombre d'itérations\n",
    "    for i in range (num_iters):\n",
    "        # Effectuer une itération de descente du gradient (i.e. on update theta une fois)\n",
    "        thetatmp = theta\n",
    "        z = predict(X, thetatmp)\n",
    "        v = z - y\n",
    "        w = v * X\n",
    "        theta[0] = theta[0] - alpha / m * sum (v)\n",
    "        # could also be \n",
    "        #theta[0] = theta[0] - alpha / m * v.sum()\n",
    "        theta[1] = theta[1] - alpha / m * sum (w)           \n",
    "    return theta\n",
    "\n",
    "theta = np.array([0.,0.])\n",
    "\n",
    "def fitFOR(X, y, theta, alpha, num_iters):\n",
    "    # Initialiser certaines variable utiles\n",
    "    m = X.size\n",
    "    \n",
    "    # Boucler sur le nombre d'itérations\n",
    "    for i in range (num_iters):\n",
    "        # Effectuer une itération de descente du gradient (i.e. on update theta une fois)\n",
    "        thetatmp = theta\n",
    "        z = predict(X, thetatmp)\n",
    "        v = np.empty(m)\n",
    "        w = np.empty(m)\n",
    "        for j in range(m):\n",
    "            v[j] = z[j] - y[j]\n",
    "            w[j] = v[j] * X[j]\n",
    "        theta[0] = theta[0] - alpha / m * sum (v)\n",
    "        theta[1] = theta[1] - alpha / m * sum (w)           \n",
    "    return theta\n",
    "\n",
    "theta = np.array([0.,0.])\n",
    "fit(X, y, theta, 0.01, 1500)"
   ]
  },
  {
   "cell_type": "markdown",
   "metadata": {
    "colab_type": "text",
    "id": "DwrC0nI4-neF"
   },
   "source": [
    "### Lancez l'apprentissage en appelant la fonction _fit_ et en prenant bien soin de récupérer le résultat de *theta* à la fin!! Vous devriez obtenir des valeurs autour de [-3.6303, 1.1664]"
   ]
  },
  {
   "cell_type": "markdown",
   "metadata": {
    "colab_type": "text",
    "id": "VllVlNsu-neJ"
   },
   "source": [
    "Pour commencer, on fixera alpha à 0.01 et num_iters à 1500"
   ]
  },
  {
   "cell_type": "code",
   "execution_count": 9,
   "metadata": {
    "colab": {},
    "colab_type": "code",
    "id": "2MaV5EMO-neP"
   },
   "outputs": [
    {
     "data": {
      "text/plain": [
       "array([-3.89578088,  1.19303364])"
      ]
     },
     "execution_count": 9,
     "metadata": {},
     "output_type": "execute_result"
    }
   ],
   "source": [
    "fit(X, y, theta, 0.01, 15000)"
   ]
  },
  {
   "cell_type": "markdown",
   "metadata": {
    "colab_type": "text",
    "id": "ukqvYNpV-neX"
   },
   "source": [
    "## Visualiser la droite de régression"
   ]
  },
  {
   "cell_type": "markdown",
   "metadata": {
    "colab_type": "text",
    "id": "nR-hGKV1-nea"
   },
   "source": [
    "### Voici une fonction pour visualiser votre droite de régression (cadeau!) Vous pourrez l'appeler plus loin dans l'exercice"
   ]
  },
  {
   "cell_type": "code",
   "execution_count": 10,
   "metadata": {
    "colab": {},
    "colab_type": "code",
    "id": "r549bq_A-nec"
   },
   "outputs": [],
   "source": [
    "#import matplotlib.pyplot as plt\n",
    "#already done above\n",
    "\n",
    "def visualize(theta):\n",
    "    fig = plt.figure()\n",
    "    ax = plt.axes()\n",
    "    ax.set_xlim([4.5,22.5])\n",
    "    ax.set_ylim([-5, 25])\n",
    "    ax.scatter(X, y)\n",
    "    line_x = np.linspace(0,22.5, 20)\n",
    "    line_y = theta[0] + line_x * theta[1]\n",
    "    ax.plot(line_x, line_y)\n",
    "    plt.show()"
   ]
  },
  {
   "cell_type": "markdown",
   "metadata": {
    "colab_type": "text",
    "id": "1LVVbhCe-nev"
   },
   "source": [
    "### Appelez la fonction pour visualiser la droite avec différentes valeurs de theta"
   ]
  },
  {
   "cell_type": "code",
   "execution_count": 11,
   "metadata": {},
   "outputs": [
    {
     "data": {
      "text/plain": [
       "<matplotlib.axes._subplots.AxesSubplot at 0x112bd69e8>"
      ]
     },
     "execution_count": 11,
     "metadata": {},
     "output_type": "execute_result"
    },
    {
     "data": {
      "image/png": "[encoded data removed]",
      "text/plain": [
       "<Figure size 432x288 with 1 Axes>"
      ]
     },
     "metadata": {
      "needs_background": "light"
     },
     "output_type": "display_data"
    }
   ],
   "source": [
    "data.plot.scatter('population', 'profit')"
   ]
  },
  {
   "cell_type": "code",
   "execution_count": 12,
   "metadata": {
    "colab": {},
    "colab_type": "code",
    "id": "BvSmLk2h-nez"
   },
   "outputs": [
    {
     "data": {
      "image/png": "[encoded data removed]",
      "text/plain": [
       "<Figure size 432x288 with 1 Axes>"
      ]
     },
     "metadata": {
      "needs_background": "light"
     },
     "output_type": "display_data"
    }
   ],
   "source": [
    "visualize(theta)"
   ]
  },
  {
   "cell_type": "markdown",
   "metadata": {
    "colab_type": "text",
    "id": "VyGAqDu4-ne5"
   },
   "source": [
    "## Fonction de coût"
   ]
  },
  {
   "cell_type": "markdown",
   "metadata": {
    "colab_type": "text",
    "id": "tpJsqsgx-ne7"
   },
   "source": [
    "Maintenant voyons comment resserrer notre analyse de l'algorithme et calculons le coût (ou la perte, ou l'erreur) à chaque itération."
   ]
  },
  {
   "cell_type": "markdown",
   "metadata": {
    "colab_type": "text",
    "id": "1wxB8E6P-nfB"
   },
   "source": [
    "### Définissez la fonction de coût de votre modèle"
   ]
  },
  {
   "cell_type": "code",
   "execution_count": 13,
   "metadata": {
    "colab": {},
    "colab_type": "code",
    "id": "E0tvdAqE-nfR"
   },
   "outputs": [],
   "source": [
    "# verify our value of theta\n",
    "theta\n",
    "def cost(X, y, theta):\n",
    "    m = X.size\n",
    "    # investigate how to do ^ 2 on a vector in python\n",
    "    v = (predict(X, theta) - y) * (predict(X, theta) - y)\n",
    "    return (1 / (2 *m) * sum(v))\n"
   ]
  },
  {
   "cell_type": "markdown",
   "metadata": {
    "colab_type": "text",
    "id": "MxAQuaAu-ngz"
   },
   "source": [
    "### Testez-la avec theta = [0,0]   Vous devriez obtenir environ 32.07"
   ]
  },
  {
   "cell_type": "code",
   "execution_count": 14,
   "metadata": {
    "colab": {},
    "colab_type": "code",
    "id": "-U27P4lx-ng2"
   },
   "outputs": [
    {
     "data": {
      "text/plain": [
       "32.072733877455654"
      ]
     },
     "execution_count": 14,
     "metadata": {},
     "output_type": "execute_result"
    }
   ],
   "source": [
    "cost(X, y , np.array([0.,0.]))"
   ]
  },
  {
   "cell_type": "markdown",
   "metadata": {
    "colab_type": "text",
    "id": "Z7Jv8u42-nhN"
   },
   "source": [
    "### Maintenant avec theta = [-1,2]. Vous devriez obtenir environ 54.24"
   ]
  },
  {
   "cell_type": "code",
   "execution_count": 15,
   "metadata": {
    "colab": {},
    "colab_type": "code",
    "id": "9DaEcLJ9-nhQ"
   },
   "outputs": [
    {
     "data": {
      "text/plain": [
       "54.24245508201238"
      ]
     },
     "execution_count": 15,
     "metadata": {},
     "output_type": "execute_result"
    }
   ],
   "source": [
    "cost(X, y , np.array([-1.,2.]))"
   ]
  },
  {
   "cell_type": "markdown",
   "metadata": {},
   "source": [
    "(result ok)"
   ]
  },
  {
   "cell_type": "markdown",
   "metadata": {
    "colab_type": "text",
    "id": "kNQ1iSlD-ni_"
   },
   "source": [
    "### Copiez le code de votre fonction _fit_ et ajoutez-y un appel à la fonction _cost_, à chaque itération. Vous stockerez vos résultats dans une liste nommée J_history, que vous retournerez avec *theta* à la fin de la fonction"
   ]
  },
  {
   "cell_type": "markdown",
   "metadata": {
    "colab_type": "text",
    "id": "VlRSVFHs-njC"
   },
   "source": [
    "Et oui, en Python, une fonction peut retourner plus qu'une variable!!"
   ]
  },
  {
   "cell_type": "code",
   "execution_count": 49,
   "metadata": {
    "colab": {},
    "colab_type": "code",
    "id": "mfWYxJgV-njD"
   },
   "outputs": [],
   "source": [
    "def fit_with_cost(X, y, theta, alpha, num_iters):\n",
    "    # Initialiser certaines variable utiles\n",
    "    m = X.size\n",
    "    J_history = np.empty(num_iters)\n",
    "    theta_history = []\n",
    "    # Boucler sur le nombre d'itérations\n",
    "    for i in tqdm(range (num_iters)):\n",
    "        # Effectuer une itération de descente du gradient (i.e. on update theta une fois)\n",
    "        thetatmp = theta\n",
    "        z = predict(X, thetatmp)\n",
    "        v = np.empty(m)\n",
    "        w = np.empty(m)\n",
    "        for j in range(m):\n",
    "            v[j] = z[j] - y[j]\n",
    "            w[j] = v[j] * X[j]\n",
    "        theta[0] = theta[0] - alpha / m * sum (v)\n",
    "        theta[1] = theta[1] - alpha / m * sum (w)\n",
    "        \n",
    "        J_history[i] = cost(X, y, theta)\n",
    "        theta_history.extend([theta[0],theta[1]])\n",
    "    return theta, J_history, theta_history"
   ]
  },
  {
   "cell_type": "markdown",
   "metadata": {
    "colab_type": "text",
    "id": "DofMubfP-nkU"
   },
   "source": [
    "### Appelez la fonction en récupérant les valeurs de theta et J_history"
   ]
  },
  {
   "cell_type": "code",
   "execution_count": 45,
   "metadata": {
    "colab": {},
    "colab_type": "code",
    "id": "Flt9gCx3-nkY"
   },
   "outputs": [],
   "source": [
    "# D'abord on réinitialise theta à zéro\n",
    "theta = np.zeros(2)"
   ]
  },
  {
   "cell_type": "code",
   "execution_count": 50,
   "metadata": {
    "colab": {},
    "colab_type": "code",
    "id": "Bz6ih0Jj-nkh"
   },
   "outputs": [
    {
     "name": "stderr",
     "output_type": "stream",
     "text": [
      "100%|██████████| 1800/1800 [00:08<00:00, 202.32it/s]\n"
     ]
    }
   ],
   "source": [
    "# Lancez l'entraînement avec votre nouvelle fonction\n",
    "theta , J_history, theta_history = fit_with_cost(X, y, theta, 0.01, 1800)"
   ]
  },
  {
   "cell_type": "markdown",
   "metadata": {
    "colab_type": "text",
    "id": "aFXhSqyx-nlI"
   },
   "source": [
    "### On visualise maintenant l'évolution du coût en fonction du nombre d'itérations"
   ]
  },
  {
   "cell_type": "markdown",
   "metadata": {
    "colab_type": "text",
    "id": "J2uZavL0-nmQ"
   },
   "source": [
    "Vous pouvez voir si en modifiant les valeurs d'alpha et de num_iters, le graphique change d'allure"
   ]
  },
  {
   "cell_type": "code",
   "execution_count": 54,
   "metadata": {},
   "outputs": [
    {
     "data": {
      "text/plain": [
       "array([5.90115471, 5.89522859, 5.89009494, ..., 4.47914501, 4.47913718,\n",
       "       4.47912938])"
      ]
     },
     "execution_count": 54,
     "metadata": {},
     "output_type": "execute_result"
    }
   ],
   "source": [
    "J_history\n",
    "#y\n",
    "#theta_history"
   ]
  },
  {
   "cell_type": "code",
   "execution_count": 53,
   "metadata": {
    "colab": {},
    "colab_type": "code",
    "id": "lNUNtUmP-nmT"
   },
   "outputs": [
    {
     "data": {
      "text/plain": [
       "[<matplotlib.lines.Line2D at 0x113001ba8>]"
      ]
     },
     "execution_count": 53,
     "metadata": {},
     "output_type": "execute_result"
    },
    {
     "data": {
      "image/png": "[encoded data removed]",
      "text/plain": [
       "<Figure size 432x288 with 1 Axes>"
      ]
     },
     "metadata": {
      "needs_background": "light"
     },
     "output_type": "display_data"
    }
   ],
   "source": [
    "fit = plt.figure()\n",
    "ax = plt.axes()\n",
    "ax.plot(J_history)"
   ]
  },
  {
   "cell_type": "markdown",
   "metadata": {
    "colab_type": "text",
    "id": "Q-sSfR1C_OTj"
   },
   "source": [
    "# Exercices Numpy"
   ]
  },
  {
   "cell_type": "markdown",
   "metadata": {},
   "source": [
    " ## La suite d'exercices suivants a pour but de vous faire comprendre le fonctionnement des numpy array et leurs avantages/defaults par rapport aux listes de python."
   ]
  },
  {
   "cell_type": "markdown",
   "metadata": {
    "colab_type": "text",
    "id": "U8-mBDc_AFxx"
   },
   "source": [
    "### Creez une liste A nommée \"list_A\" contenant les éléments (0, 1, 1, 2, 3, 5, 8). A partir de cette liste créez un numpy array nommé \"np_A\""
   ]
  },
  {
   "cell_type": "code",
   "execution_count": 57,
   "metadata": {},
   "outputs": [
    {
     "name": "stdout",
     "output_type": "stream",
     "text": [
      "(0, 1, 1, 2, 3, 5, 8)\n",
      "[0, 1, 1, 2, 3, 5, 8]\n",
      "[0 1 1 2 3 5 8]\n",
      "[0 1 1 2 3 5 8]\n"
     ]
    }
   ],
   "source": [
    "list_A = (0, 1, 1, 2, 3, 5, 8)\n",
    "array_A = [0, 1, 1, 2, 3, 5, 8]\n",
    "# wait above is not an array but a list\n",
    "# luckily np knows how to change that and consider it an array\n",
    "np_A = np.array(list_A)\n",
    "np_Aprime = np.array(array_A)\n",
    "print(list_A)\n",
    "print(array_A)\n",
    "print(np_A)\n",
    "print(np_Aprime)"
   ]
  },
  {
   "cell_type": "markdown",
   "metadata": {},
   "source": [
    "### Affichez votre numpy array. Ainsi que : sa forme, sa taille, sa dimension et son type"
   ]
  },
  {
   "cell_type": "code",
   "execution_count": 58,
   "metadata": {},
   "outputs": [
    {
     "name": "stdout",
     "output_type": "stream",
     "text": [
      "(7,)\n",
      "7\n",
      "1\n",
      "int64\n"
     ]
    }
   ],
   "source": [
    "#no idea about \"form\" OOOPS it is \"shape\" simply\n",
    "print(np_A.shape)\n",
    "print(np_A.size)\n",
    "print(np_A.ndim)\n",
    "print(np_A.dtype)"
   ]
  },
  {
   "cell_type": "markdown",
   "metadata": {},
   "source": [
    "### Ajoutez 2 a chaque element de la liste \"list_A\""
   ]
  },
  {
   "cell_type": "code",
   "execution_count": null,
   "metadata": {},
   "outputs": [],
   "source": [
    "#this is important\n",
    "list_D = [x + 2 for x in list_A]\n",
    "#note that \n",
    "[x + 2 for x in list_A]\n",
    "# will only add AND return all elements to the output, but the list remains the same\n",
    "list_D"
   ]
  },
  {
   "cell_type": "markdown",
   "metadata": {},
   "source": [
    "### Ajoutez 2 a chaque élément de votre numpy array (votre solution ne doit pas utiliser de boucles)"
   ]
  },
  {
   "cell_type": "code",
   "execution_count": null,
   "metadata": {},
   "outputs": [],
   "source": [
    "print(np_A)\n",
    "np_A += 2\n",
    "np_A"
   ]
  },
  {
   "cell_type": "markdown",
   "metadata": {},
   "source": [
    "### Calculez la somme de tous les éléments de \"np_A\" (sans utiliser de boucle)"
   ]
  },
  {
   "cell_type": "code",
   "execution_count": null,
   "metadata": {},
   "outputs": [],
   "source": [
    "print(sum(np_A))\n",
    "#or\n",
    "print(np_A.sum())"
   ]
  },
  {
   "cell_type": "markdown",
   "metadata": {},
   "source": [
    "### Convertissez les elements de votre numpy array en float"
   ]
  },
  {
   "cell_type": "code",
   "execution_count": null,
   "metadata": {},
   "outputs": [],
   "source": [
    "np_A = np_A * 1.0\n",
    "print(np_A)\n",
    "#alternatively \n",
    "np_B = np.array(list_A)\n",
    "np_B = np_B.astype(float)\n",
    "print(np_B)\n",
    "np_A = np_A.astype(int)\n",
    "print(np_A)"
   ]
  },
  {
   "cell_type": "markdown",
   "metadata": {},
   "source": [
    "### Convertissez votre numpy array en une liste python"
   ]
  },
  {
   "cell_type": "code",
   "execution_count": null,
   "metadata": {},
   "outputs": [],
   "source": [
    "list_C = np_A.tolist()\n",
    "# but it has square brackets, is it a python array ?\n",
    "print(list_C)"
   ]
  },
  {
   "cell_type": "markdown",
   "metadata": {
    "colab_type": "text",
    "id": "Sq2WUIWG_7zF"
   },
   "source": [
    "### Exécutez les trois cellules suivantes pour visualiser les matrices M et N"
   ]
  },
  {
   "cell_type": "code",
   "execution_count": 59,
   "metadata": {
    "colab": {},
    "colab_type": "code",
    "id": "bM6p6obT_7zH"
   },
   "outputs": [],
   "source": [
    "M = np.random.randint(10, size=(4,4))\n",
    "N = np.random.randint(10, size=(4,4))"
   ]
  },
  {
   "cell_type": "code",
   "execution_count": 60,
   "metadata": {
    "colab": {},
    "colab_type": "code",
    "id": "wxYUf0EA_7zT"
   },
   "outputs": [
    {
     "name": "stdout",
     "output_type": "stream",
     "text": [
      "[[2 1 3 9]\n",
      " [8 4 9 7]\n",
      " [5 2 1 8]\n",
      " [2 7 7 1]]\n"
     ]
    }
   ],
   "source": [
    "M\n",
    "print(M)"
   ]
  },
  {
   "cell_type": "code",
   "execution_count": 61,
   "metadata": {
    "colab": {},
    "colab_type": "code",
    "id": "915fQVX2_7zd"
   },
   "outputs": [
    {
     "name": "stdout",
     "output_type": "stream",
     "text": [
      "[[5 3 0 4]\n",
      " [3 8 8 6]\n",
      " [0 9 2 7]\n",
      " [1 3 2 5]]\n"
     ]
    }
   ],
   "source": [
    "N\n",
    "print(N)"
   ]
  },
  {
   "cell_type": "markdown",
   "metadata": {
    "colab_type": "text",
    "id": "EMTQZ7V2_7zm"
   },
   "source": [
    "### Aditionnez les deux matrices"
   ]
  },
  {
   "cell_type": "code",
   "execution_count": 63,
   "metadata": {
    "colab": {},
    "colab_type": "code",
    "id": "QK2oUupg_7zo"
   },
   "outputs": [
    {
     "data": {
      "text/plain": [
       "array([[ 7,  4,  3, 13],\n",
       "       [11, 12, 17, 13],\n",
       "       [ 5, 11,  3, 15],\n",
       "       [ 3, 10,  9,  6]])"
      ]
     },
     "execution_count": 63,
     "metadata": {},
     "output_type": "execute_result"
    }
   ],
   "source": [
    "M + N"
   ]
  },
  {
   "cell_type": "markdown",
   "metadata": {
    "colab_type": "text",
    "id": "7YbEoLmF_7zs"
   },
   "source": [
    "### Calculez le produit matriciel de M et N. Vérifiez votre opération en calculant les premières cellules à la main"
   ]
  },
  {
   "cell_type": "code",
   "execution_count": 65,
   "metadata": {
    "colab": {},
    "colab_type": "code",
    "id": "SWsjMAc1_7zt"
   },
   "outputs": [
    {
     "name": "stdout",
     "output_type": "stream",
     "text": [
      "[[ 22  68  32  80]\n",
      " [ 59 158  64 154]\n",
      " [ 39  64  34  79]\n",
      " [ 32 128  72 104]]\n",
      "[[ 22  68  32  80]\n",
      " [ 59 158  64 154]\n",
      " [ 39  64  34  79]\n",
      " [ 32 128  72 104]]\n"
     ]
    },
    {
     "data": {
      "text/plain": [
       "array([[0, 0, 0, 0],\n",
       "       [0, 0, 0, 0],\n",
       "       [0, 0, 0, 0],\n",
       "       [0, 0, 0, 0]])"
      ]
     },
     "execution_count": 65,
     "metadata": {},
     "output_type": "execute_result"
    }
   ],
   "source": [
    "print(np.matmul(M,N))\n",
    "print(M.dot(N))\n",
    "#np.matmul(M,N) - M.dot(N)"
   ]
  },
  {
   "cell_type": "markdown",
   "metadata": {
    "colab_type": "text",
    "id": "ay846XQZ_7zx"
   },
   "source": [
    "### ** Bonus: Écrivez vous-mêmes une fonction de produit matriciel, avec des boucles imbriquées "
   ]
  },
  {
   "cell_type": "code",
   "execution_count": 71,
   "metadata": {},
   "outputs": [],
   "source": [
    "MM = np.random.randint(10, size=(4,3))"
   ]
  },
  {
   "cell_type": "code",
   "execution_count": 76,
   "metadata": {},
   "outputs": [
    {
     "name": "stdout",
     "output_type": "stream",
     "text": [
      "[[4 0 3]\n",
      " [1 9 3]\n",
      " [5 0 9]\n",
      " [3 6 7]]\n"
     ]
    },
    {
     "data": {
      "text/plain": [
       "4"
      ]
     },
     "execution_count": 76,
     "metadata": {},
     "output_type": "execute_result"
    }
   ],
   "source": [
    "print(MM)\n",
    "MM[0,0]"
   ]
  },
  {
   "cell_type": "code",
   "execution_count": 113,
   "metadata": {},
   "outputs": [
    {
     "data": {
      "text/plain": [
       "array([[0., 0., 0., 0.],\n",
       "       [0., 0., 0., 0.],\n",
       "       [0., 0., 0., 0.],\n",
       "       [0., 0., 0., 0.]])"
      ]
     },
     "execution_count": 113,
     "metadata": {},
     "output_type": "execute_result"
    }
   ],
   "source": [
    "m_l, m_c = M.shape\n",
    "n_l, n_c = N.shape\n",
    "#for i in range(M.size)\n",
    "#    for j in range()\n",
    "O = np.zeros((m_l,n_c))\n",
    "O"
   ]
  },
  {
   "cell_type": "code",
   "execution_count": 127,
   "metadata": {
    "colab": {},
    "colab_type": "code",
    "id": "tfYUlDhS_7z0"
   },
   "outputs": [
    {
     "name": "stdout",
     "output_type": "stream",
     "text": [
      "[[ 22  68  32  80]\n",
      " [ 59 158  64 154]\n",
      " [ 39  64  34  79]\n",
      " [ 32 128  72 104]]\n",
      "[[ 22.  68.  32.  80.]\n",
      " [ 59. 158.  64. 154.]\n",
      " [ 39.  64.  34.  79.]\n",
      " [ 32. 128.  72. 104.]]\n"
     ]
    }
   ],
   "source": [
    "\n",
    "print(np.matmul(M,N))\n",
    "def matrix_multiply(M,N):\n",
    "    #tqdm()\n",
    "    m_l, m_c = M.shape\n",
    "    n_l, n_c = N.shape\n",
    "    O = np.zeros((m_l,n_c))\n",
    "    for i in range(m_l): #first matrix first line\n",
    "        for j in range(n_c): #2nd matrix first col\n",
    "            for k in range(m_c): #first matrix column\n",
    "                O[i,j] += M[i,k]*N[k,j]\n",
    "# j'ai galéré et j'ai du aller regarder sur internet\n",
    "    return O\n",
    "\n",
    "O = matrix_multiply(M,N)\n",
    "\n",
    "print(O)"
   ]
  },
  {
   "cell_type": "markdown",
   "metadata": {
    "colab_type": "text",
    "id": "uCq1b-SQ_7z6"
   },
   "source": [
    "### ** Comparez son temps de calcul à la fonction de numpy avec de très grosses matrices en entrée"
   ]
  },
  {
   "cell_type": "code",
   "execution_count": 129,
   "metadata": {
    "colab": {},
    "colab_type": "code",
    "id": "IUzAnW7g_7z7"
   },
   "outputs": [
    {
     "name": "stdout",
     "output_type": "stream",
     "text": [
      "[[ 837. 1030. 1116. ...  898. 1090.  924.]\n",
      " [ 740.  786.  944. ...  755. 1010.  736.]\n",
      " [ 783.  806.  928. ...  822.  947.  911.]\n",
      " ...\n",
      " [ 786.  821.  930. ...  773.  973.  813.]\n",
      " [ 639.  905.  928. ...  750.  996.  822.]\n",
      " [ 545.  612.  701. ...  548.  648.  636.]]\n",
      "[[ 837 1030 1116 ...  898 1090  924]\n",
      " [ 740  786  944 ...  755 1010  736]\n",
      " [ 783  806  928 ...  822  947  911]\n",
      " ...\n",
      " [ 786  821  930 ...  773  973  813]\n",
      " [ 639  905  928 ...  750  996  822]\n",
      " [ 545  612  701 ...  548  648  636]]\n"
     ]
    }
   ],
   "source": [
    "MM = np.random.randint(10, size=(100,40))\n",
    "NN = np.random.randint(10, size=(40,100))\n",
    "OO = matrix_multiply(MM,NN)\n",
    "print(OO)\n",
    "OO = np.matmul(MM,NN)\n",
    "print(OO)"
   ]
  },
  {
   "cell_type": "markdown",
   "metadata": {
    "colab": {},
    "colab_type": "code",
    "id": "W8REX2em_YaB"
   },
   "source": [
    "## Aller plus loin avec numpy (optionnal)"
   ]
  },
  {
   "cell_type": "markdown",
   "metadata": {
    "colab": {},
    "colab_type": "code",
    "id": "6ViVuoeH_YnX"
   },
   "source": [
    "### Creez une liste a deux dimension ((1,2,3), (2,1,3), (3,2,1), (1,3,2)) nommée \"list_B\". Convertissez le en numpy array \"np_B\""
   ]
  },
  {
   "cell_type": "code",
   "execution_count": 183,
   "metadata": {},
   "outputs": [
    {
     "data": {
      "text/plain": [
       "array([[1, 2, 3],\n",
       "       [2, 1, 3],\n",
       "       [3, 2, 1],\n",
       "       [1, 3, 2]])"
      ]
     },
     "execution_count": 183,
     "metadata": {},
     "output_type": "execute_result"
    }
   ],
   "source": [
    "list_B = ((1,2,3), (2,1,3), (3,2,1), (1,3,2))\n",
    "list_B\n",
    "np_B = np.array(list_B)\n",
    "np_B"
   ]
  },
  {
   "cell_type": "markdown",
   "metadata": {
    "colab": {},
    "colab_type": "code",
    "id": "t_qxQPvR_Y2n"
   },
   "source": [
    "### Extrayez les deux premiere lignes et colonnes de \"np_B\". En sortie on obtient ((1,2),(2,1))"
   ]
  },
  {
   "cell_type": "code",
   "execution_count": 184,
   "metadata": {},
   "outputs": [
    {
     "data": {
      "text/plain": [
       "array([[1, 2],\n",
       "       [2, 1]])"
      ]
     },
     "execution_count": 184,
     "metadata": {},
     "output_type": "execute_result"
    }
   ],
   "source": [
    "np_B[:2,:2] # range of row THEN range of col (think LINCOL = LINeCOLumN )"
   ]
  },
  {
   "cell_type": "markdown",
   "metadata": {
    "colab": {},
    "colab_type": "code",
    "id": "z7fE4YII_Yug"
   },
   "source": [
    "### Creez un masque qui montre toutes les valeurs egales a 1. "
   ]
  },
  {
   "cell_type": "code",
   "execution_count": 188,
   "metadata": {},
   "outputs": [
    {
     "name": "stdout",
     "output_type": "stream",
     "text": [
      "[[1 2 3]\n",
      " [2 1 3]\n",
      " [3 2 1]\n",
      " [1 3 2]]\n"
     ]
    },
    {
     "data": {
      "text/plain": [
       "array([[1, 0, 0],\n",
       "       [0, 1, 0],\n",
       "       [0, 0, 1],\n",
       "       [1, 0, 0]])"
      ]
     },
     "execution_count": 188,
     "metadata": {},
     "output_type": "execute_result"
    }
   ],
   "source": [
    "# V = [( y[x] , None)[y[x] == 1] for y in x in np_B]\n",
    "# V = [x for x in np_B]\n",
    "\n",
    "np_Bmask = np.ma.masked_not_equal(np_B, 1)\n",
    "print(np_B)\n",
    "np_Bmask\n",
    "# much easier\n",
    "V = np_B == 1\n",
    "V.astype(int)"
   ]
  },
  {
   "cell_type": "markdown",
   "metadata": {},
   "source": [
    "### Pour toutes les valeurs du masque multipliez la valeur par 3"
   ]
  },
  {
   "cell_type": "code",
   "execution_count": 191,
   "metadata": {},
   "outputs": [
    {
     "data": {
      "text/plain": [
       "array([[3, 0, 0],\n",
       "       [0, 3, 0],\n",
       "       [0, 0, 3],\n",
       "       [3, 0, 0]])"
      ]
     },
     "execution_count": 191,
     "metadata": {},
     "output_type": "execute_result"
    }
   ],
   "source": [
    "MMM = (np_B == 1)*3\n",
    "MMM"
   ]
  },
  {
   "cell_type": "markdown",
   "metadata": {},
   "source": [
    "### Creez un nouveau numpy array \"np_C\" avec les valeurs (0, 0, 1, 2, 3, 5, 8) (en 1 dimension)"
   ]
  },
  {
   "cell_type": "code",
   "execution_count": 195,
   "metadata": {},
   "outputs": [
    {
     "data": {
      "text/plain": [
       "array([0, 0, 1, 2, 3, 5, 8])"
      ]
     },
     "execution_count": 195,
     "metadata": {},
     "output_type": "execute_result"
    }
   ],
   "source": [
    "np_C = np.array((0, 0, 1, 2, 3, 5, 8))\n",
    "np_C"
   ]
  },
  {
   "cell_type": "markdown",
   "metadata": {},
   "source": [
    "### Trouvez le minimum, maximum et la moyenne du numpy array \"np_C\""
   ]
  },
  {
   "cell_type": "code",
   "execution_count": 205,
   "metadata": {},
   "outputs": [
    {
     "name": "stdout",
     "output_type": "stream",
     "text": [
      "8\n",
      "8\n",
      "0\n",
      "0\n"
     ]
    },
    {
     "data": {
      "text/plain": [
       "2.7142857142857144"
      ]
     },
     "execution_count": 205,
     "metadata": {},
     "output_type": "execute_result"
    }
   ],
   "source": [
    "print(max(np_C))\n",
    "#or\n",
    "print(np_C.max())\n",
    "\n",
    "print(min(np_C))\n",
    "#or\n",
    "print(np_C.min())\n",
    "\n",
    "np_C.mean()"
   ]
  },
  {
   "cell_type": "markdown",
   "metadata": {},
   "source": [
    "### Creez une fonction qui prend un nombre en parametre et renvoie son carré. Appliquez cette fonction a chaque element de votre numpy array a l'aide de la fonction vectorize "
   ]
  },
  {
   "cell_type": "code",
   "execution_count": 210,
   "metadata": {},
   "outputs": [],
   "source": [
    "?np.vectorize"
   ]
  },
  {
   "cell_type": "code",
   "execution_count": 211,
   "metadata": {},
   "outputs": [
    {
     "data": {
      "text/plain": [
       "array([ 0,  0,  1,  4,  9, 25, 64])"
      ]
     },
     "execution_count": 211,
     "metadata": {},
     "output_type": "execute_result"
    }
   ],
   "source": [
    "def square(N):\n",
    "    return N * N\n",
    "\n",
    "vsquare = np.vectorize(square)\n",
    "vsquare(np_C)"
   ]
  },
  {
   "cell_type": "markdown",
   "metadata": {},
   "source": [
    "### Changez la dimension cd \"np_B\" pour qu'elle passe de 4 * 3 a 3 * 4"
   ]
  },
  {
   "cell_type": "code",
   "execution_count": 212,
   "metadata": {},
   "outputs": [],
   "source": [
    "# this is a pivot or a whatever we call it"
   ]
  },
  {
   "cell_type": "markdown",
   "metadata": {},
   "source": [
    "### Changez la dimension de np_B pour passer a un numpy array d'une seule dimension (flatten, ravel)"
   ]
  },
  {
   "cell_type": "code",
   "execution_count": null,
   "metadata": {},
   "outputs": [],
   "source": []
  },
  {
   "cell_type": "markdown",
   "metadata": {},
   "source": [
    "### Travail sur une image"
   ]
  },
  {
   "cell_type": "code",
   "execution_count": null,
   "metadata": {},
   "outputs": [],
   "source": [
    "#install scikit-image\n",
    "import numpy as np\n",
    "from skimage import io\n",
    "import matplotlib.pyplot as plt\n",
    "%matplotlib inline\n",
    "photo = io.imread(\"cat.jpeg\")\n",
    "plt.imshow(photo)"
   ]
  },
  {
   "cell_type": "markdown",
   "metadata": {},
   "source": [
    "### A l'aide du slicing inversez l'orientation de l'image (le bas est en haut)"
   ]
  },
  {
   "cell_type": "code",
   "execution_count": null,
   "metadata": {},
   "outputs": [],
   "source": []
  },
  {
   "cell_type": "markdown",
   "metadata": {},
   "source": [
    "### A l'aide du slicing créez un mirroir de l'image d'origine"
   ]
  },
  {
   "cell_type": "code",
   "execution_count": null,
   "metadata": {},
   "outputs": [],
   "source": []
  },
  {
   "cell_type": "markdown",
   "metadata": {},
   "source": [
    "### A l'aide de np.where appliquez un masque qui converti les pixels en dessous de 100 en 0 et au dessus en 255"
   ]
  },
  {
   "cell_type": "code",
   "execution_count": null,
   "metadata": {},
   "outputs": [],
   "source": []
  },
  {
   "cell_type": "markdown",
   "metadata": {},
   "source": [
    "### Transposez l'image"
   ]
  },
  {
   "cell_type": "code",
   "execution_count": null,
   "metadata": {},
   "outputs": [],
   "source": []
  },
  {
   "cell_type": "markdown",
   "metadata": {},
   "source": [
    "Pour ceux souhaitant aller plus loin sur numpy quelques pistes intéressantes qui restent à explorer : les séquences, le sampling avec random choice, uniqs et count"
   ]
  },
  {
   "cell_type": "markdown",
   "metadata": {},
   "source": [
    "## En résumé les numpy array ont les particularités suivantes :\n",
    "- ils supportent des operations vectorizées (opérations sur chaque élements de la matrice)\n",
    "- la taille d'un numpy array ne peux etre changé\n",
    "- il n'y a qu'un type de donnée dans un numpy array\n",
    "- ils prennent beaucoup moins de place "
   ]
  }
 ],
 "metadata": {
  "colab": {
   "name": "Semaine2-exercices.ipynb",
   "provenance": [],
   "version": "0.3.2"
  },
  "kernelspec": {
   "display_name": "Python 3",
   "language": "python",
   "name": "python3"
  },
  "language_info": {
   "codemirror_mode": {
    "name": "ipython",
    "version": 3
   },
   "file_extension": ".py",
   "mimetype": "text/x-python",
   "name": "python",
   "nbconvert_exporter": "python",
   "pygments_lexer": "ipython3",
   "version": "3.7.1"
  }
 },
 "nbformat": 4,
 "nbformat_minor": 1
}
