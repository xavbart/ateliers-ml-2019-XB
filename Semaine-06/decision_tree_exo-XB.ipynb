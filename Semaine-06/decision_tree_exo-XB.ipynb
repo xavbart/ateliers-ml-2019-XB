{
 "cells": [
  {
   "cell_type": "markdown",
   "metadata": {},
   "source": [
    "## Nous allons créer un Decision Tree permettant de classifier differents elements, en l'occurence des fruits en fonctions de trois attributs."
   ]
  },
  {
   "cell_type": "code",
   "execution_count": 5,
   "metadata": {},
   "outputs": [],
   "source": [
    "from __future__ import print_function\n",
    "import numpy as np\n",
    "import pandas as pd"
   ]
  },
  {
   "cell_type": "code",
   "execution_count": 6,
   "metadata": {},
   "outputs": [],
   "source": [
    "training_data = pd.read_csv(\"data.csv\")"
   ]
  },
  {
   "cell_type": "markdown",
   "metadata": {},
   "source": [
    "### Visualisez les donnees (valeurs reelles) ###"
   ]
  },
  {
   "cell_type": "code",
   "execution_count": 8,
   "metadata": {},
   "outputs": [
    {
     "data": {
      "text/html": [
       "<div>\n",
       "<style scoped>\n",
       "    .dataframe tbody tr th:only-of-type {\n",
       "        vertical-align: middle;\n",
       "    }\n",
       "\n",
       "    .dataframe tbody tr th {\n",
       "        vertical-align: top;\n",
       "    }\n",
       "\n",
       "    .dataframe thead th {\n",
       "        text-align: right;\n",
       "    }\n",
       "</style>\n",
       "<table border=\"1\" class=\"dataframe\">\n",
       "  <thead>\n",
       "    <tr style=\"text-align: right;\">\n",
       "      <th></th>\n",
       "      <th>Color</th>\n",
       "      <th>Size</th>\n",
       "      <th>Season</th>\n",
       "      <th>Label</th>\n",
       "    </tr>\n",
       "  </thead>\n",
       "  <tbody>\n",
       "    <tr>\n",
       "      <th>95</th>\n",
       "      <td>Green</td>\n",
       "      <td>2</td>\n",
       "      <td>Winter</td>\n",
       "      <td>Kiwi</td>\n",
       "    </tr>\n",
       "    <tr>\n",
       "      <th>96</th>\n",
       "      <td>Yellow</td>\n",
       "      <td>3</td>\n",
       "      <td>Winter</td>\n",
       "      <td>Lemon</td>\n",
       "    </tr>\n",
       "    <tr>\n",
       "      <th>97</th>\n",
       "      <td>Red</td>\n",
       "      <td>3</td>\n",
       "      <td>Winter</td>\n",
       "      <td>Orange</td>\n",
       "    </tr>\n",
       "    <tr>\n",
       "      <th>98</th>\n",
       "      <td>Green</td>\n",
       "      <td>2</td>\n",
       "      <td>Winter</td>\n",
       "      <td>Kiwi</td>\n",
       "    </tr>\n",
       "    <tr>\n",
       "      <th>99</th>\n",
       "      <td>Green</td>\n",
       "      <td>2</td>\n",
       "      <td>Winter</td>\n",
       "      <td>Kiwi</td>\n",
       "    </tr>\n",
       "  </tbody>\n",
       "</table>\n",
       "</div>"
      ],
      "text/plain": [
       "     Color  Size  Season   Label\n",
       "95   Green     2  Winter    Kiwi\n",
       "96  Yellow     3  Winter   Lemon\n",
       "97     Red     3  Winter  Orange\n",
       "98   Green     2  Winter    Kiwi\n",
       "99   Green     2  Winter    Kiwi"
      ]
     },
     "execution_count": 8,
     "metadata": {},
     "output_type": "execute_result"
    }
   ],
   "source": [
    "training_data.tail()"
   ]
  },
  {
   "cell_type": "markdown",
   "metadata": {},
   "source": [
    "### Definissez X de type np.array qui contiendra les valeurs des attributs ET des labels (pour faciliter le partinioning par la suite)"
   ]
  },
  {
   "cell_type": "code",
   "execution_count": 80,
   "metadata": {},
   "outputs": [],
   "source": [
    "#X = np.matrix(training_data.label,training_data.season ).T\n",
    "matriX = np.matrix([training_data.Color, training_data.Size, training_data.Season, training_data.Label]).T\n",
    "X = np.array(training_data)"
   ]
  },
  {
   "cell_type": "code",
   "execution_count": 81,
   "metadata": {},
   "outputs": [
    {
     "data": {
      "text/plain": [
       "(100, 4)"
      ]
     },
     "execution_count": 81,
     "metadata": {},
     "output_type": "execute_result"
    }
   ],
   "source": [
    "# Nous devons maintenant stocker les differents titres de categories pour pouvoir afficher notre arbre\n",
    "header = list(training_data.columns)\n",
    "header\n",
    "X.shape"
   ]
  },
  {
   "cell_type": "code",
   "execution_count": 82,
   "metadata": {},
   "outputs": [
    {
     "data": {
      "text/plain": [
       "array([['Red', 3, 'Winter', 'Orange'],\n",
       "       ['Green', 2, 'Winter', 'Kiwi']], dtype=object)"
      ]
     },
     "execution_count": 82,
     "metadata": {},
     "output_type": "execute_result"
    }
   ],
   "source": [
    "X[2:4]"
   ]
  },
  {
   "cell_type": "markdown",
   "metadata": {},
   "source": [
    "### Nous vous donnons la fonction permettant de trouver les differentes valeurs possibles pour chaque categorie, testez la pour mieux la comprendre "
   ]
  },
  {
   "cell_type": "code",
   "execution_count": 75,
   "metadata": {},
   "outputs": [],
   "source": [
    "def unique_vals(rows, col):\n",
    "    return set([row[col] for row in rows])\n",
    "# La spécifité de l'objet set est qu'il ne peut pas contenir de doublons. Ses valeurs sont donc uniques."
   ]
  },
  {
   "cell_type": "markdown",
   "metadata": {},
   "source": [
    "### Testez votre fonction pour les differents attributs et labels ###"
   ]
  },
  {
   "cell_type": "code",
   "execution_count": 89,
   "metadata": {},
   "outputs": [
    {
     "data": {
      "text/plain": [
       "{'Spring', 'Summer', 'Winter'}"
      ]
     },
     "execution_count": 89,
     "metadata": {},
     "output_type": "execute_result"
    }
   ],
   "source": [
    "# Afficher les differentes saisons avec unique_vals\n",
    "unique_vals(X[1:], header.index('Season'))"
   ]
  },
  {
   "cell_type": "code",
   "execution_count": 87,
   "metadata": {},
   "outputs": [
    {
     "data": {
      "text/plain": [
       "{'Green', 'Red', 'Yellow'}"
      ]
     },
     "execution_count": 87,
     "metadata": {},
     "output_type": "execute_result"
    }
   ],
   "source": [
    "# Afficher les differentes couleurs avec unique_vals\n",
    "unique_vals(X[1:], header.index('Color'))"
   ]
  },
  {
   "cell_type": "code",
   "execution_count": 90,
   "metadata": {},
   "outputs": [
    {
     "data": {
      "text/plain": [
       "{'Apple', 'Grape', 'Kiwi', 'Lemon', 'Orange'}"
      ]
     },
     "execution_count": 90,
     "metadata": {},
     "output_type": "execute_result"
    }
   ],
   "source": [
    "# Afficher les differents fruits avec unique_vals\n",
    "unique_vals(X[1:], header.index('Label'))"
   ]
  },
  {
   "cell_type": "markdown",
   "metadata": {},
   "source": [
    "### Definir la fonction permettant de compter le nombre de fruits présents par categorie *(nombre de citrons, nombre de pommes, etc.)* \n",
    "#### La valeur de retour doit être un dictionnaire"
   ]
  },
  {
   "cell_type": "code",
   "execution_count": 130,
   "metadata": {},
   "outputs": [
    {
     "name": "stdout",
     "output_type": "stream",
     "text": [
      "['Grape' 'Apple' 'Orange' 'Kiwi' 'Lemon' 'Kiwi' 'Lemon' 'Grape' 'Apple'\n",
      " 'Orange' 'Kiwi' 'Lemon' 'Grape' 'Apple' 'Orange' 'Kiwi' 'Lemon' 'Grape'\n",
      " 'Apple' 'Orange' 'Kiwi' 'Lemon' 'Grape' 'Apple' 'Orange' 'Kiwi' 'Lemon'\n",
      " 'Grape' 'Apple' 'Orange' 'Kiwi' 'Lemon' 'Grape' 'Apple' 'Orange' 'Kiwi'\n",
      " 'Lemon' 'Grape' 'Apple' 'Orange' 'Kiwi' 'Lemon' 'Grape' 'Apple' 'Orange'\n",
      " 'Kiwi' 'Lemon' 'Grape' 'Apple' 'Orange' 'Kiwi' 'Lemon' 'Grape' 'Apple'\n",
      " 'Orange' 'Kiwi' 'Lemon' 'Grape' 'Apple' 'Orange' 'Kiwi' 'Lemon' 'Grape'\n",
      " 'Apple' 'Orange' 'Kiwi' 'Lemon' 'Grape' 'Apple' 'Orange' 'Kiwi' 'Lemon'\n",
      " 'Grape' 'Apple' 'Orange' 'Kiwi' 'Lemon' 'Grape' 'Apple' 'Orange' 'Kiwi'\n",
      " 'Lemon' 'Grape' 'Apple' 'Orange' 'Kiwi' 'Lemon' 'Grape' 'Apple' 'Orange'\n",
      " 'Kiwi' 'Lemon' 'Grape' 'Apple' 'Orange' 'Kiwi' 'Lemon' 'Orange' 'Kiwi'\n",
      " 'Kiwi']\n"
     ]
    }
   ],
   "source": [
    "#print(X[:,3])\n",
    "def class_counts_head(rows, header_name): # pass unique_vals(X[1:], header.index('Label'))\n",
    "    counts = {}\n",
    "    col_index = header.index(header_name)\n",
    "  \n",
    "    counts = {value: list(rows[:,col_index]).count(value) \\\n",
    "              for value in set(unique_vals(X[1:], col_index))}\n",
    "    return counts\n",
    "\n",
    " # list_to_count = unique_vals(rows, header.index(header_name))\n",
    "   # #for fruit in header.index(header_name):\n",
    "   # unique, counting = np.unique(rows, return_counts=True)\n",
    "   # print (unique)\n",
    "   # print (counting)\n",
    "   # counts = (zip(unique, counting)) \n",
    "    # counts = {int(value): list(y).count(value) for value in set(y)}\n",
    "\n",
    "def class_counts(rows): # pass unique_vals(X[1:], header.index('Label'))\n",
    "    counts = {}\n",
    "    for row in rows:\n",
    "        counts.counter()[row] += 1\n",
    "    # ...\n",
    "    \n",
    "    return counts"
   ]
  },
  {
   "cell_type": "code",
   "execution_count": 131,
   "metadata": {},
   "outputs": [
    {
     "name": "stdout",
     "output_type": "stream",
     "text": [
      "{'Grape': 18, 'Lemon': 20, 'Kiwi': 22, 'Orange': 20, 'Apple': 19}\n"
     ]
    },
    {
     "data": {
      "text/plain": [
       "99"
      ]
     },
     "execution_count": 131,
     "metadata": {},
     "output_type": "execute_result"
    }
   ],
   "source": [
    "## Lancez votre fonction pour votre dataset :\n",
    "count_label = class_counts_head(X[1:], 'Label')\n",
    "## Elle devrait retourner : {'Grape': 19, 'Apple': 19, 'Orange': 20, 'Kiwi': 22, 'Lemon': 20} \n",
    "print(count_label)\n",
    "sum (count_label.values())"
   ]
  },
  {
   "cell_type": "markdown",
   "metadata": {},
   "source": [
    "### Definition de la fonction is_numeric permettant de savoir si une valeur est de type int/float ou non. ###"
   ]
  },
  {
   "cell_type": "code",
   "execution_count": 133,
   "metadata": {},
   "outputs": [],
   "source": [
    "def is_numeric(value):\n",
    "    if type(value) == int or type(value) == float:\n",
    "        return True\n",
    "    else:\n",
    "        return False"
   ]
  },
  {
   "cell_type": "code",
   "execution_count": 138,
   "metadata": {},
   "outputs": [
    {
     "data": {
      "text/plain": [
       "True"
      ]
     },
     "execution_count": 138,
     "metadata": {},
     "output_type": "execute_result"
    }
   ],
   "source": [
    "## Testez votre fonction pour une valeur numerique (int ou float) ...\n",
    "is_numeric(1)"
   ]
  },
  {
   "cell_type": "code",
   "execution_count": 139,
   "metadata": {},
   "outputs": [
    {
     "data": {
      "text/plain": [
       "False"
      ]
     },
     "execution_count": 139,
     "metadata": {},
     "output_type": "execute_result"
    }
   ],
   "source": [
    "#... et pour une valeur non-numérique \n",
    "is_numeric('Apple')"
   ]
  },
  {
   "cell_type": "markdown",
   "metadata": {},
   "source": [
    "### Pour partitionner le dataset, nous allons utiliser une classe \"Questions\" ! Cette classe enregistre un numero de colonne (Ex : 0 pour la couleur) et une valeur de la colonne (ex : Vert).  \n",
    "### La fonction match est utilisee pour comparer la valeur d'un exemple à celle de la question (voir commentaires fonction match).\n",
    "#### Vous avez ici directement le constructeur et la fonction d'affichage. A vous de trouver la fonction match"
   ]
  },
  {
   "cell_type": "code",
   "execution_count": 184,
   "metadata": {},
   "outputs": [],
   "source": [
    "class Question:\n",
    "    \n",
    "    def __init__(self, column, value):\n",
    "        # Le Constructeur  permet d'attribuer les variables données à la classe\n",
    "        self.column = column\n",
    "        self.value = value\n",
    "\n",
    "    def match(self, example):\n",
    "        # Compare la valeur donné pour la question (value), a la valeur correspondante d'example \n",
    "        # (example est une ligne)\n",
    "        # ATTENTION : La valeur de retour doit etre un boolean (True / False)\n",
    "        \n",
    "        return ( (self.value <= example[self.column]) \\\n",
    "                if (is_numeric(self.value) and is_numeric(example[self.column])) \\\n",
    "                else (self.value  == example[self.column]) )\n",
    "\n",
    "    def __repr__(self):\n",
    "        # This is just a helper method to print\n",
    "        # the question in a readable format.\n",
    "        condition = \"==\"\n",
    "        if is_numeric(self.value):\n",
    "            condition = \">=\"\n",
    "        return \"Is %s %s %s?\" % (\n",
    "            header[self.column], condition, str(self.value))"
   ]
  },
  {
   "cell_type": "markdown",
   "metadata": {},
   "source": [
    "#### Testez vos questions"
   ]
  },
  {
   "cell_type": "code",
   "execution_count": 207,
   "metadata": {},
   "outputs": [
    {
     "name": "stdout",
     "output_type": "stream",
     "text": [
      "[['Apple']]\n"
     ]
    },
    {
     "ename": "TypeError",
     "evalue": "'numpy.ndarray' object is not callable",
     "output_type": "error",
     "traceback": [
      "\u001b[0;31m---------------------------------------------------------------------------\u001b[0m",
      "\u001b[0;31mTypeError\u001b[0m                                 Traceback (most recent call last)",
      "\u001b[0;32m<ipython-input-207-39bffa75499c>\u001b[0m in \u001b[0;36m<module>\u001b[0;34m\u001b[0m\n\u001b[1;32m      2\u001b[0m \u001b[0mY\u001b[0m \u001b[0;34m=\u001b[0m \u001b[0mX\u001b[0m\u001b[0;34m[\u001b[0m\u001b[0;36m1\u001b[0m\u001b[0;34m:\u001b[0m\u001b[0;36m2\u001b[0m\u001b[0;34m,\u001b[0m\u001b[0;36m3\u001b[0m\u001b[0;34m:\u001b[0m\u001b[0;36m4\u001b[0m\u001b[0;34m]\u001b[0m\u001b[0;34m\u001b[0m\u001b[0;34m\u001b[0m\u001b[0m\n\u001b[1;32m      3\u001b[0m \u001b[0mprint\u001b[0m\u001b[0;34m(\u001b[0m\u001b[0mY\u001b[0m\u001b[0;34m)\u001b[0m\u001b[0;34m\u001b[0m\u001b[0;34m\u001b[0m\u001b[0m\n\u001b[0;32m----> 4\u001b[0;31m \u001b[0mprint\u001b[0m \u001b[0;34m(\u001b[0m\u001b[0mY\u001b[0m\u001b[0;34m(\u001b[0m\u001b[0;36m2\u001b[0m\u001b[0;34m)\u001b[0m\u001b[0;34m)\u001b[0m\u001b[0;34m\u001b[0m\u001b[0;34m\u001b[0m\u001b[0m\n\u001b[0m\u001b[1;32m      5\u001b[0m \u001b[0mq1\u001b[0m \u001b[0;34m=\u001b[0m \u001b[0mQuestion\u001b[0m\u001b[0;34m(\u001b[0m\u001b[0;36m1\u001b[0m\u001b[0;34m,\u001b[0m\u001b[0;36m3\u001b[0m\u001b[0;34m)\u001b[0m\u001b[0;34m\u001b[0m\u001b[0;34m\u001b[0m\u001b[0m\n\u001b[1;32m      6\u001b[0m \u001b[0mprint\u001b[0m\u001b[0;34m(\u001b[0m\u001b[0mq1\u001b[0m\u001b[0;34m)\u001b[0m\u001b[0;34m\u001b[0m\u001b[0;34m\u001b[0m\u001b[0m\n",
      "\u001b[0;31mTypeError\u001b[0m: 'numpy.ndarray' object is not callable"
     ]
    }
   ],
   "source": [
    "# Ecrivez une question pour un attribut numerique\n",
    "Y = X[1:2,3:4]\n",
    "print(Y)\n",
    "print (Y(2))\n",
    "q1 = Question(1,3)\n",
    "print(q1)\n",
    "print(q1.value)\n",
    "q1.match([\"fff\", 12, \"ggg\"])"
   ]
  },
  {
   "cell_type": "code",
   "execution_count": 182,
   "metadata": {},
   "outputs": [
    {
     "name": "stdout",
     "output_type": "stream",
     "text": [
      "Is Label == Apple?\n"
     ]
    },
    {
     "data": {
      "text/plain": [
       "False"
      ]
     },
     "execution_count": 182,
     "metadata": {},
     "output_type": "execute_result"
    }
   ],
   "source": [
    "# Et une deuxieme pour un attribut catégorique (couleurs / saisons) : \n",
    "q2 = Question(3, 'Apple')\n",
    "print(q2)\n",
    "q2.match([\"fff\", 5, \"ggg\", \"Aple\"])"
   ]
  },
  {
   "cell_type": "code",
   "execution_count": null,
   "metadata": {},
   "outputs": [],
   "source": [
    "# Choisissez un exemple dans le dataset et vérifiez avec la fonction match s'il est de couleur rouge\n",
    "example =\n",
    "q3 = "
   ]
  },
  {
   "cell_type": "code",
   "execution_count": null,
   "metadata": {},
   "outputs": [],
   "source": [
    "# Pareil, mais tester pour size >= 2 (Attention à l'inegalité)\n",
    "example =\n",
    "q4 = "
   ]
  },
  {
   "cell_type": "markdown",
   "metadata": {},
   "source": [
    "### Vous devez definir la fonction partition qui prend en paramètres le dataset et une question, et les split en fonction de leur reponse (True / False) --> Ce seront nos 2 branches partant d'un noeud."
   ]
  },
  {
   "cell_type": "code",
   "execution_count": null,
   "metadata": {},
   "outputs": [],
   "source": [
    "def partition(rows, question):\n",
    "    # Pour chaque ligne dans le dataset, partionnez le en 2 en fonction du resultat de la question.\n",
    "    true_rows, false_rows = [], []\n",
    "    \n",
    "    # ...\n",
    "    \n",
    "    return true_rows, false_rows"
   ]
  },
  {
   "cell_type": "code",
   "execution_count": null,
   "metadata": {
    "scrolled": true
   },
   "outputs": [],
   "source": [
    "# Testons notre fonction partition pour isoler les lignes \"rouges\"\n",
    "true_rows, false_rows = "
   ]
  },
  {
   "cell_type": "code",
   "execution_count": null,
   "metadata": {},
   "outputs": [],
   "source": [
    "# Et verifiez le contenue de vos 2 nodes\n"
   ]
  },
  {
   "cell_type": "markdown",
   "metadata": {},
   "source": [
    "### Maintenant un peu de maths !\n",
    "#### Nous allons calculer l'impurity d'une liste d'exemple grace a GINI \n",
    "#### ATTENTION : La fonction doit pouvoir prendre les listes qui suivent comme les lignes d'exemples contenues dans X (ex : gini(X[0]) ))"
   ]
  },
  {
   "cell_type": "code",
   "execution_count": null,
   "metadata": {},
   "outputs": [],
   "source": [
    "def gini(rows):\n",
    "    \n",
    "    # ...\n",
    "    \n",
    "    return impurity"
   ]
  },
  {
   "cell_type": "code",
   "execution_count": null,
   "metadata": {},
   "outputs": [],
   "source": [
    "# Pour verifier la fonction tester l'exemple suivant \n",
    "no_mixing = [['Apple'], ['Apple']]\n",
    "# Que devrait-etre votre resultat ?\n",
    "gini(no_mixing)"
   ]
  },
  {
   "cell_type": "code",
   "execution_count": null,
   "metadata": {},
   "outputs": [],
   "source": [
    " # Maintenant avec un autre\n",
    "some_mixing = [['Apple'], ['Orange'], ['Orange'], ['Apple']]\n",
    "#  Que devriez vous obtenir comme resultat ?\n",
    "gini(some_mixing)"
   ]
  },
  {
   "cell_type": "code",
   "execution_count": null,
   "metadata": {},
   "outputs": [],
   "source": [
    "# Et maintenant pour un dataset avec tous nos fruits\n",
    "lots_of_mixing = [['Apple'],\n",
    "                  ['Orange'],\n",
    "                  ['Grape'],\n",
    "                  ['Lemon'],\n",
    "                  ['Kiwi']]\n",
    "# Vous devriez obtenir environ 0.8\n",
    "gini(lots_of_mixing)"
   ]
  },
  {
   "cell_type": "markdown",
   "metadata": {},
   "source": [
    "### Calculons l'information gain "
   ]
  },
  {
   "cell_type": "code",
   "execution_count": null,
   "metadata": {},
   "outputs": [],
   "source": [
    "\"\"\"Information Gain :\n",
    "The uncertainty of the starting node, minus the weighted impurity of\n",
    "two child nodes.\n",
    "\"\"\"\n",
    "\n",
    "def info_gain(left, right, current_uncertainty):\n",
    "    #left : true_rows\n",
    "    #right : false_rows\n",
    "    \n",
    "    # ...\n",
    "    \n",
    "    return info_gain"
   ]
  },
  {
   "cell_type": "code",
   "execution_count": null,
   "metadata": {},
   "outputs": [],
   "source": [
    "# Calculez l'uncertainy de notre dataset.\n",
    "current_uncertainty = \n",
    "\n",
    "# Vous devriez obtenir environ 0.8"
   ]
  },
  {
   "cell_type": "code",
   "execution_count": null,
   "metadata": {},
   "outputs": [],
   "source": [
    "# Quel est notre information gain du Dataset si nous partitionnons avec la question couleur == rouge ??\n",
    "info_gain = \n",
    "# Resultat : environ 0.1835"
   ]
  },
  {
   "cell_type": "code",
   "execution_count": null,
   "metadata": {},
   "outputs": [],
   "source": [
    "# De même pour la question \"Size >= 2\"\n",
    "info_gain = \n",
    "# Resultat : environ 0.1925"
   ]
  },
  {
   "cell_type": "markdown",
   "metadata": {},
   "source": [
    "### Pour ne pas tout tester manuellement, construisez la fonction vous permettant de trouver la question donnant le meilleur information gain en iterant sur chaque feature / value."
   ]
  },
  {
   "cell_type": "code",
   "execution_count": null,
   "metadata": {},
   "outputs": [],
   "source": [
    "def find_best_split(rows):\n",
    "    best_gain = 0\n",
    "    best_question = None  # 1 Objet Question\n",
    "\n",
    "     # ...\n",
    "\n",
    "    return best_gain, best_question"
   ]
  },
  {
   "cell_type": "code",
   "execution_count": null,
   "metadata": {},
   "outputs": [],
   "source": [
    "### Testez votre fonction sur le dataset\n",
    "best_gain, best_question = \n",
    "# Vous devriez avoir : is color == yellow ?"
   ]
  },
  {
   "cell_type": "markdown",
   "metadata": {},
   "source": [
    "### Nous allons maintenant construire notre Decision Tree \n",
    "#### Les objets Leaf et Decision_Node sont donnés,  à vous de trouver la fonction qui permettra de construire l'arbre (build_tree)"
   ]
  },
  {
   "cell_type": "code",
   "execution_count": null,
   "metadata": {},
   "outputs": [],
   "source": [
    "class Leaf:\n",
    "    def __init__(self, rows):\n",
    "        self.predictions = class_counts(rows)"
   ]
  },
  {
   "cell_type": "code",
   "execution_count": null,
   "metadata": {},
   "outputs": [],
   "source": [
    "class Decision_Node:\n",
    "    \"\"\"A Decision Node asks a question.\n",
    "    This holds a reference to the question, and to the two child nodes.\n",
    "    \"\"\"\n",
    "    def __init__(self,\n",
    "                 question,\n",
    "                 true_branch,\n",
    "                 false_branch):\n",
    "        self.question = question\n",
    "        self.true_branch = true_branch\n",
    "        self.false_branch = false_branch"
   ]
  },
  {
   "cell_type": "code",
   "execution_count": null,
   "metadata": {},
   "outputs": [],
   "source": [
    "def build_tree(rows):\n",
    "    \"\"\"Builds the tree.\n",
    "    Rules of recursion: 1) Believe that it works. 2) Start by checking\n",
    "    for the base case (no further information gain). 3) Prepare for\n",
    "    giant stack traces.\n",
    "    \"\"\"\n",
    "    # Rappelez-vous de la condition d'arret et de la creation d'une leaf\n"
   ]
  },
  {
   "cell_type": "markdown",
   "metadata": {},
   "source": [
    "### Fonction d'affichage de l'arbre (c'est cadeau ;) )"
   ]
  },
  {
   "cell_type": "code",
   "execution_count": null,
   "metadata": {},
   "outputs": [],
   "source": [
    "def print_tree(node, spacing=\"\"):\n",
    "    \"\"\"World's most elegant tree printing function.\"\"\"\n",
    "\n",
    "    # Base case: we've reached a leaf\n",
    "    if isinstance(node, Leaf):\n",
    "        print (spacing + \"Predict\", node.predictions)\n",
    "        return\n",
    "\n",
    "    # Print the question at this node\n",
    "    print (spacing + str(node.question))\n",
    "\n",
    "    # Call this function recursively on the true branch\n",
    "    print (spacing + '--> True:')\n",
    "    print_tree(node.true_branch, spacing + \"  \")\n",
    "\n",
    "    # Call this function recursively on the false branch\n",
    "    print (spacing + '--> False:')\n",
    "    print_tree(node.false_branch, spacing + \"  \")"
   ]
  },
  {
   "cell_type": "markdown",
   "metadata": {},
   "source": [
    "### Maintenant, creez votre arbre et imprimez le ! ;)"
   ]
  },
  {
   "cell_type": "code",
   "execution_count": null,
   "metadata": {},
   "outputs": [],
   "source": [
    "my_tree ="
   ]
  },
  {
   "cell_type": "code",
   "execution_count": null,
   "metadata": {},
   "outputs": [],
   "source": [
    "print_tree(my_tree)"
   ]
  },
  {
   "cell_type": "markdown",
   "metadata": {},
   "source": [
    "### Construisez la fonction classify qui permettra de parcourir l'abre pour un exemple donné. Elle nous retourne les predictions quand elle atteint une leaf (leaf.predictions)\n",
    "#### Classify est une fonction recurssive allant de node en node :)\n",
    "#### PS : man isinstance()"
   ]
  },
  {
   "cell_type": "code",
   "execution_count": null,
   "metadata": {},
   "outputs": [],
   "source": [
    "def classify(row, node):\n"
   ]
  },
  {
   "cell_type": "code",
   "execution_count": null,
   "metadata": {},
   "outputs": [],
   "source": [
    "# Test de la fonction avec le 16eme data sample. Vous devriez obtenir {'Kiwi': 22}\n",
    "classify(X[15], my_tree)"
   ]
  },
  {
   "cell_type": "code",
   "execution_count": null,
   "metadata": {},
   "outputs": [],
   "source": [
    "def print_leaf(counts):\n",
    "    \"\"\"A nicer way to print the predictions at a leaf.\"\"\"\n",
    "    total = sum(counts.values()) * 1.0\n",
    "    probs = {}\n",
    "    for lbl in counts.keys():\n",
    "        probs[lbl] = str(int(counts[lbl] / total * 100)) + \"%\"\n",
    "    return probs"
   ]
  },
  {
   "cell_type": "code",
   "execution_count": null,
   "metadata": {},
   "outputs": [],
   "source": [
    "# Maintenant avec une fonction d'affichage un peu plus plaisante. Resultat : {'Grape': '100%'}\n",
    "print_leaf(classify(X[0], my_tree))"
   ]
  },
  {
   "cell_type": "code",
   "execution_count": null,
   "metadata": {},
   "outputs": [],
   "source": [
    "# Tester avec ce dataset, puis essayer de changer les valeurs pour mieux comprendre le comportement de l'arbre\n",
    "testing_data = [\n",
    "    ['Green', 2, 'Winter','Kiwi'],\n",
    "    ['Yellow', 3, 'Winter', 'Lemon'],\n",
    "    ['Red', 1, 'Summer', 'Grape'],\n",
    "    ['Red', 2, 'Summer', 'Grape'],\n",
    "    ['Yellow', 3, 'Winter', 'Lemon'],\n",
    "]"
   ]
  },
  {
   "cell_type": "code",
   "execution_count": null,
   "metadata": {},
   "outputs": [],
   "source": [
    "for row in testing_data:\n",
    "    print (\"Actual: %s. Predicted: %s\" %\n",
    "           (row[3], print_leaf(classify(row, my_tree))))"
   ]
  }
 ],
 "metadata": {
  "kernelspec": {
   "display_name": "Python 3",
   "language": "python",
   "name": "python3"
  },
  "language_info": {
   "codemirror_mode": {
    "name": "ipython",
    "version": 3
   },
   "file_extension": ".py",
   "mimetype": "text/x-python",
   "name": "python",
   "nbconvert_exporter": "python",
   "pygments_lexer": "ipython3",
   "version": "3.6.8"
  }
 },
 "nbformat": 4,
 "nbformat_minor": 2
}
