{
 "cells": [
  {
   "cell_type": "markdown",
   "metadata": {},
   "source": [
    "## Sequence Prediction using RNN"
   ]
  },
  {
   "cell_type": "markdown",
   "metadata": {},
   "source": [
    "In this exercise, we try to predict values of a curve given earlier data points.\n",
    "\n",
    "We will formulate our problem like this – given a sequence of 50 numbers belonging to a sine wave, predict the 51st number in the series"
   ]
  },
  {
   "cell_type": "code",
   "execution_count": null,
   "metadata": {},
   "outputs": [],
   "source": [
    "import keras\n",
    "import pandas as pd\n",
    "import matplotlib.pyplot as plt\n",
    "from keras.models import Sequential, load_model      # type de modele\n",
    "from keras.layers import Dense                       # Fully Connected Layers\n",
    "from keras.optimizers import Adam\n",
    "from keras import layers\n",
    "from keras.layers import LSTM, Dense\n",
    "from sklearn.metrics import mean_squared_error\n",
    "\n",
    "%pylab inline\n",
    "import math"
   ]
  },
  {
   "cell_type": "markdown",
   "metadata": {},
   "source": [
    "What does our network model expect the data to be like? It would accept a single sequence of length 50 as input. So the shape of the input data will be:\n",
    "\n",
    "(number_of_records x length_of_sequence x types_of_sequences)\n",
    "\n",
    "Here, types_of_sequences is 1, because we have only one type of sequence – the sine wave.\n",
    "\n",
    "On the other hand, the output would have only one value for each record. This will of course be the 51st value in the input sequence. So its shape would be:\n",
    "\n",
    "(number_of_records x types_of_sequences) # where types_of_sequences is 1"
   ]
  },
  {
   "cell_type": "markdown",
   "metadata": {},
   "source": [
    "-----------------------------------"
   ]
  },
  {
   "cell_type": "markdown",
   "metadata": {},
   "source": [
    "fix random seed for reproducibility of the results (hint: `random`)"
   ]
  },
  {
   "cell_type": "code",
   "execution_count": null,
   "metadata": {},
   "outputs": [],
   "source": [
    "# fix random seed for reproducibility (may not be necessary with Keras?)\n",
    "random.seed(42)"
   ]
  },
  {
   "cell_type": "markdown",
   "metadata": {},
   "source": [
    "Create the sine wave data and visualize it (hint: `math.sin(x)` for values ranging from 0 to 200)\n",
    "\n",
    "Data should be stored in a numpy array of 200 values."
   ]
  },
  {
   "cell_type": "code",
   "execution_count": null,
   "metadata": {},
   "outputs": [],
   "source": [
    "sin_wave = \n",
    "\n",
    "plt.plot()"
   ]
  },
  {
   "cell_type": "markdown",
   "metadata": {},
   "source": [
    "Visualize a sequence of only 50, for example the 50 first values of the calculated sine wave."
   ]
  },
  {
   "cell_type": "code",
   "execution_count": null,
   "metadata": {},
   "outputs": [],
   "source": [
    "plt.plot()"
   ]
  },
  {
   "cell_type": "markdown",
   "metadata": {},
   "source": [
    "We will first set up the training data:\n",
    "\n",
    "X should be an array of 100 sequences, that is, an array of arrays.\n",
    "\n",
    "Y should be an array of 100 outputs, that is, for each input sequence, the value that follows the sequence.\n",
    "\n",
    "hint: `X.append`, `Y.append`"
   ]
  },
  {
   "cell_type": "markdown",
   "metadata": {},
   "source": [
    "Note that we loop for `num_records – 50` because we want to set aside the last 50 records as our validation data. "
   ]
  },
  {
   "cell_type": "code",
   "execution_count": null,
   "metadata": {},
   "outputs": [],
   "source": [
    "X = []\n",
    "Y = []\n",
    "\n",
    "seq_len = 50\n",
    "num_records = len(sin_wave) - seq_len\n",
    "\n",
    "for i in range(num_records - 50):\n",
    "    # ...\n"
   ]
  },
  {
   "cell_type": "markdown",
   "metadata": {},
   "source": [
    "If we plot the data we can check that X(t) is Y(t-1)"
   ]
  },
  {
   "cell_type": "code",
   "execution_count": null,
   "metadata": {},
   "outputs": [],
   "source": [
    "plt.plot( , 'r', linewidth=3)\n",
    "plt.plot( , 'b')"
   ]
  },
  {
   "cell_type": "markdown",
   "metadata": {},
   "source": [
    "Print the shape of the data: \n",
    "\n",
    "X should be an array of 100 sequences of 50.\n",
    "\n",
    "Y should be an array of 100 values.\n",
    "\n",
    "hint: `shape`"
   ]
  },
  {
   "cell_type": "code",
   "execution_count": null,
   "metadata": {},
   "outputs": [],
   "source": []
  },
  {
   "cell_type": "markdown",
   "metadata": {},
   "source": [
    "We reshape the data because we need one more dimension for the model"
   ]
  },
  {
   "cell_type": "code",
   "execution_count": null,
   "metadata": {},
   "outputs": [],
   "source": [
    "X = X.reshape(1, 100, 50)\n",
    "Y = Y.reshape(1, 100)"
   ]
  },
  {
   "cell_type": "markdown",
   "metadata": {},
   "source": [
    "Now, in a similar way to what we did with the training data, we setup the validation data:\n",
    "\n"
   ]
  },
  {
   "cell_type": "code",
   "execution_count": null,
   "metadata": {},
   "outputs": [],
   "source": [
    "X_val = []\n",
    "Y_val = []\n",
    "\n",
    "for i in range(num_records - 50, num_records):\n",
    "    # ...\n",
    "\n",
    "T = 50                   # length of sequence\n",
    "\n",
    "output_dim = 1\n",
    "X_val.shape, Y_val.shape"
   ]
  },
  {
   "cell_type": "markdown",
   "metadata": {},
   "source": [
    "Now we can instantiate a Keras model:"
   ]
  },
  {
   "cell_type": "code",
   "execution_count": null,
   "metadata": {},
   "outputs": [],
   "source": [
    "#definition of the model\n",
    "model = Sequential()\n",
    "model.add(LSTM(units = 3,input_shape=(None, 50)))\n",
    "model.add(Dense(100))\n",
    "model.compile(loss='mean_squared_error', optimizer='adam')\n",
    "model.summary()\n"
   ]
  },
  {
   "cell_type": "markdown",
   "metadata": {},
   "source": [
    "Then we can test the model with only 20 iterations:"
   ]
  },
  {
   "cell_type": "code",
   "execution_count": null,
   "metadata": {},
   "outputs": [],
   "source": [
    "model.fit(X, Y, epochs=20, batch_size=1 )"
   ]
  },
  {
   "cell_type": "markdown",
   "metadata": {},
   "source": [
    "Get the predictions and plot them.\n",
    "\n",
    "Hint `model.predict`"
   ]
  },
  {
   "cell_type": "code",
   "execution_count": null,
   "metadata": {},
   "outputs": [],
   "source": [
    "prediction = \n",
    "print(shape(prediction))\n",
    "plt.plot(, 'g')\n",
    "plt.plot( , 'r')\n",
    "plt.show()"
   ]
  },
  {
   "cell_type": "markdown",
   "metadata": {},
   "source": [
    "We can see that the model is learning, but we need more iterations for a better fit."
   ]
  },
  {
   "cell_type": "markdown",
   "metadata": {},
   "source": [
    "Test the model with 500 epochs."
   ]
  },
  {
   "cell_type": "code",
   "execution_count": null,
   "metadata": {},
   "outputs": [],
   "source": []
  },
  {
   "cell_type": "markdown",
   "metadata": {},
   "source": [
    "Plot the new predictions: there should be a better fit now:"
   ]
  },
  {
   "cell_type": "code",
   "execution_count": null,
   "metadata": {},
   "outputs": [],
   "source": [
    "trainPredict = \n",
    "plt.plot(  , 'g')\n",
    "plt.plot(  , 'r')\n",
    "plt.show()\n"
   ]
  },
  {
   "cell_type": "markdown",
   "metadata": {},
   "source": [
    "Now, instead of working with training data, we can make predictions on the validation data:"
   ]
  },
  {
   "cell_type": "code",
   "execution_count": null,
   "metadata": {},
   "outputs": [],
   "source": [
    "# make predictions\n",
    "testPredict = \n",
    "print(shape(testPredict))\n"
   ]
  },
  {
   "cell_type": "markdown",
   "metadata": {},
   "source": [
    "Calculate root mean squared error for the training and the validation data.\n",
    "\n",
    "We expect the error to be very low on the training data, and a bit less low for the validation data.\n",
    "\n",
    "Hint: `sklearn.metrics.mean_squared_error`"
   ]
  },
  {
   "cell_type": "code",
   "execution_count": null,
   "metadata": {},
   "outputs": [],
   "source": [
    "# calculate root mean squared error\n",
    "trainScore = \n",
    "print('Train Score: %.2f RMSE' % (trainScore))\n",
    "testScore = \n",
    "print('Test Score: %.2f RMSE' % (testScore))"
   ]
  },
  {
   "cell_type": "markdown",
   "metadata": {},
   "source": [
    "We plot the validation data to check if there is overfitting"
   ]
  },
  {
   "cell_type": "code",
   "execution_count": null,
   "metadata": {},
   "outputs": [],
   "source": [
    "plt.plot(  , 'g')\n",
    "plt.plot(  , 'r')\n",
    "plt.show()"
   ]
  },
  {
   "cell_type": "markdown",
   "metadata": {},
   "source": [
    "Great that's look pretty good....We can check with a clean model and less epochs and see....\n",
    "\n",
    "Could also try with a different series, for example a square wave?"
   ]
  },
  {
   "cell_type": "code",
   "execution_count": null,
   "metadata": {},
   "outputs": [],
   "source": []
  }
 ],
 "metadata": {
  "kernelspec": {
   "display_name": "Python 3",
   "language": "python",
   "name": "python3"
  },
  "language_info": {
   "codemirror_mode": {
    "name": "ipython",
    "version": 3
   },
   "file_extension": ".py",
   "mimetype": "text/x-python",
   "name": "python",
   "nbconvert_exporter": "python",
   "pygments_lexer": "ipython3",
   "version": "3.7.2"
  }
 },
 "nbformat": 4,
 "nbformat_minor": 2
}
